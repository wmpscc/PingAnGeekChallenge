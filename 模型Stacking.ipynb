{
 "cells": [
  {
   "cell_type": "code",
   "execution_count": 1,
   "metadata": {
    "collapsed": true
   },
   "outputs": [],
   "source": [
    "import pandas as pd\n",
    "import numpy as np\n",
    "import os\n",
    "import matplotlib.pyplot as plt\n",
    "%matplotlib inline\n",
    "pd.set_option('display.max_columns', 64)\n",
    "pd.set_option('display.max_rows', 100)"
   ]
  },
  {
   "cell_type": "code",
   "execution_count": 2,
   "metadata": {
    "collapsed": true
   },
   "outputs": [],
   "source": [
    "from sklearn.metrics import precision_score, recall_score\n",
    "def calc_f2(label, predict):\n",
    "    p = precision_score(label, predict)\n",
    "    r = recall_score(label, predict)\n",
    "    f2_score = 5*p*r / (4*p + r)\n",
    "    return f2_score"
   ]
  },
  {
   "cell_type": "code",
   "execution_count": 3,
   "metadata": {
    "collapsed": true
   },
   "outputs": [],
   "source": [
    "homePath = 'game'\n",
    "trainPath = os.path.join(homePath, 'train_fill.csv')\n",
    "trainData = pd.read_csv(trainPath)\n",
    "testPath = os.path.join(homePath, 'test_fill.csv')\n",
    "testData = pd.read_csv(testPath)\n",
    "submPath = os.path.join(homePath, 'submission.csv')\n",
    "submData = pd.read_csv(submPath)"
   ]
  },
  {
   "cell_type": "code",
   "execution_count": 4,
   "metadata": {
    "collapsed": true
   },
   "outputs": [],
   "source": [
    "trainData['acc_now_delinq'] = list(map(int, trainData['acc_now_delinq']))\n",
    "trainLabel = trainData['acc_now_delinq']\n",
    "del trainData['acc_now_delinq']"
   ]
  },
  {
   "cell_type": "code",
   "execution_count": 5,
   "metadata": {
    "collapsed": true
   },
   "outputs": [],
   "source": [
    "trainData['annual_inc'].fillna(trainData['annual_inc'].mean(), inplace=True)\n",
    "trainData['emp_title'].fillna(0, inplace=True)\n",
    "testData['emp_title'].fillna(0, inplace=True)"
   ]
  },
  {
   "cell_type": "code",
   "execution_count": 13,
   "metadata": {
    "collapsed": true
   },
   "outputs": [],
   "source": [
    "testData.drop(\"acc_now_delinq\", axis=1, inplace=True)"
   ]
  },
  {
   "cell_type": "code",
   "execution_count": 62,
   "metadata": {
    "collapsed": true
   },
   "outputs": [],
   "source": [
    "from sklearn.ensemble import RandomForestClassifier\n",
    "rnd_clf = RandomForestClassifier(n_estimators=110, min_samples_split=90, min_samples_leaf=15,max_depth=10,oob_score=True,max_features=10)\n",
    "\n",
    "from xgboost.sklearn import XGBClassifier\n",
    "xgb = XGBClassifier(learning_rate =0.05,\n",
    "                     n_estimators=1000,\n",
    "                     max_depth=3,\n",
    "                     min_child_weight=1,\n",
    "                     gamma=0.1,\n",
    "                     subsample=0.8,\n",
    "                     colsample_bytree=0.8,\n",
    "                     objective= 'binary:logistic',\n",
    "                     nthread=4,\n",
    "                     reg_alpha=0.001,\n",
    "                     reg_lambda=0.001,\n",
    "                     scale_pos_weight=1)\n",
    "\n",
    "import lightgbm as lgb\n",
    "lgb_clf = lgb.LGBMClassifier(learning_rate=0.1,\n",
    "                            boosting_type='gbdt',\n",
    "                            objective='binary',\n",
    "                            n_estimators=1000,\n",
    "                            metric='auc',\n",
    "                            max_depth=3,\n",
    "                            num_leaves=5,\n",
    "                            subsample=0.7,\n",
    "                            colsample_bytree=0.7,\n",
    "                            min_data_in_leaf=450,\n",
    "                            feature_fraction=0.7,\n",
    "                            bagging_fraction=0.7,\n",
    "                            bagging_freq=6,\n",
    "                            lambda_l1=1,\n",
    "                            lambda_l2=0.001,\n",
    "                            min_gain_to_split=0.265,\n",
    "                            verbose=5,\n",
    "                            is_unbalance=True)\n",
    "\n",
    "from sklearn.ensemble import GradientBoostingClassifier\n",
    "gbdt = GradientBoostingClassifier(learning_rate=0.05, min_samples_split=320, min_samples_leaf=7, max_depth=7, \n",
    "                                 max_features='sqrt', subsample=0.7)\n",
    "\n",
    "\n",
    "from mlxtend.classifier import StackingClassifier \n",
    "stack_clf = StackingClassifier(classifiers=[gbdt, lgb_clf, rnd_clf, xgb], meta_classifier=xgb)\n"
   ]
  },
  {
   "cell_type": "code",
   "execution_count": 66,
   "metadata": {},
   "outputs": [
    {
     "data": {
      "text/plain": [
       "StackingClassifier(average_probas=False,\n",
       "          classifiers=[GradientBoostingClassifier(criterion='friedman_mse', init=None,\n",
       "              learning_rate=0.05, loss='deviance', max_depth=7,\n",
       "              max_features='sqrt', max_leaf_nodes=None,\n",
       "              min_impurity_decrease=0.0, min_impurity_split=None,\n",
       "              min_samples_leaf=7, min...eg_alpha=0.001, reg_lambda=0.001,\n",
       "       scale_pos_weight=1, seed=None, silent=True, subsample=0.8)],\n",
       "          meta_classifier=XGBClassifier(base_score=0.5, booster='gbtree', colsample_bylevel=1,\n",
       "       colsample_bytree=0.8, gamma=0.1, learning_rate=0.05,\n",
       "       max_delta_step=0, max_depth=3, min_child_weight=1, missing=None,\n",
       "       n_estimators=1000, n_jobs=1, nthread=4, objective='binary:logistic',\n",
       "       random_state=0, reg_alpha=0.001, reg_lambda=0.001,\n",
       "       scale_pos_weight=1, seed=None, silent=True, subsample=0.8),\n",
       "          store_train_meta_features=False, use_clones=True,\n",
       "          use_features_in_secondary=False, use_probas=False, verbose=0)"
      ]
     },
     "execution_count": 66,
     "metadata": {},
     "output_type": "execute_result"
    }
   ],
   "source": [
    "stack_clf.fit(trainData, trainLabel)"
   ]
  },
  {
   "cell_type": "code",
   "execution_count": 67,
   "metadata": {
    "collapsed": true
   },
   "outputs": [],
   "source": [
    "stack_pred = stack_clf.predict(testData)"
   ]
  },
  {
   "cell_type": "code",
   "execution_count": 68,
   "metadata": {},
   "outputs": [
    {
     "data": {
      "text/plain": [
       "244"
      ]
     },
     "execution_count": 68,
     "metadata": {},
     "output_type": "execute_result"
    }
   ],
   "source": [
    "stack_pred.sum()"
   ]
  },
  {
   "cell_type": "code",
   "execution_count": null,
   "metadata": {
    "collapsed": true
   },
   "outputs": [],
   "source": []
  },
  {
   "cell_type": "code",
   "execution_count": null,
   "metadata": {
    "collapsed": true
   },
   "outputs": [],
   "source": []
  },
  {
   "cell_type": "code",
   "execution_count": null,
   "metadata": {
    "collapsed": true
   },
   "outputs": [],
   "source": []
  }
 ],
 "metadata": {
  "kernelspec": {
   "display_name": "Python 3",
   "language": "python",
   "name": "python3"
  },
  "language_info": {
   "codemirror_mode": {
    "name": "ipython",
    "version": 3
   },
   "file_extension": ".py",
   "mimetype": "text/x-python",
   "name": "python",
   "nbconvert_exporter": "python",
   "pygments_lexer": "ipython3",
   "version": "3.5.4"
  }
 },
 "nbformat": 4,
 "nbformat_minor": 2
}
