{
 "cells": [
  {
   "cell_type": "code",
   "execution_count": 84,
   "metadata": {},
   "outputs": [],
   "source": [
    "import pandas as pd\n",
    "import numpy as np\n",
    "import os\n",
    "import matplotlib.pyplot as plt\n",
    "%matplotlib inline\n",
    "pd.set_option('display.max_columns', 64)\n",
    "pd.set_option('display.max_rows', 100)\n",
    "from sklearn.model_selection import GridSearchCV\n",
    "import random"
   ]
  },
  {
   "cell_type": "code",
   "execution_count": 85,
   "metadata": {},
   "outputs": [],
   "source": [
    "homePath = 'game'\n",
    "trainPath = os.path.join(homePath, 'train_precessing.csv')\n",
    "trainData = pd.read_csv(trainPath)\n",
    "testPath = os.path.join(homePath, 'test_ALL.csv')\n",
    "testData = pd.read_csv(testPath)\n",
    "submPath = os.path.join(homePath, 'submission.csv')\n",
    "submData = pd.read_csv(submPath)"
   ]
  },
  {
   "cell_type": "code",
   "execution_count": 86,
   "metadata": {},
   "outputs": [],
   "source": [
    "trainData['emp_length'].fillna(trainData['emp_length'].median(), inplace=True)\n",
    "trainData['annual_inc'].fillna(trainData['annual_inc'].median(), inplace=True)\n",
    "trainData['title'].fillna(trainData['title'].median(), inplace=True)\n",
    "trainData['pub_rec'].fillna(trainData['pub_rec'].median(), inplace=True)\n",
    "trainData['revol_util'].fillna(trainData['revol_util'].median(), inplace=True)\n",
    "trainData['total_acc'].fillna(trainData['total_acc'].median(), inplace=True)\n",
    "trainData['collections_12_mths_ex_med'].fillna(trainData['collections_12_mths_ex_med'].median(), inplace=True)"
   ]
  },
  {
   "cell_type": "code",
   "execution_count": 87,
   "metadata": {},
   "outputs": [],
   "source": [
    "testData['emp_length'].fillna(testData['emp_length'].median(), inplace=True)\n",
    "testData['annual_inc'].fillna(testData['annual_inc'].median(), inplace=True)\n",
    "testData['title'].fillna(testData['title'].median(), inplace=True)\n",
    "testData['pub_rec'].fillna(testData['pub_rec'].median(), inplace=True)\n",
    "testData['revol_util'].fillna(testData['revol_util'].median(), inplace=True)\n",
    "testData['total_acc'].fillna(testData['total_acc'].median(), inplace=True)\n",
    "testData['collections_12_mths_ex_med'].fillna(testData['collections_12_mths_ex_med'].median(), inplace=True)\n",
    "del testData['member_id']"
   ]
  },
  {
   "cell_type": "code",
   "execution_count": 88,
   "metadata": {},
   "outputs": [],
   "source": [
    "from sklearn.metrics import precision_score, recall_score\n",
    "def calc_f2(label, predict):\n",
    "    p = precision_score(label, predict)\n",
    "    r = recall_score(label, predict)\n",
    "    f2_score = 5*p*r / (4*p + r)\n",
    "    return f2_score"
   ]
  },
  {
   "cell_type": "code",
   "execution_count": 89,
   "metadata": {},
   "outputs": [
    {
     "name": "stderr",
     "output_type": "stream",
     "text": [
      "E:\\Anaconda3\\envs\\tensorflow\\lib\\site-packages\\ipykernel_launcher.py:12: RuntimeWarning: invalid value encountered in greater\n",
      "  if sys.path[0] == '':\n"
     ]
    }
   ],
   "source": [
    "trueData = trainData.loc[trainData['acc_now_delinq'] == 1]\n",
    "trainData_copy = trainData.copy()\n",
    "delLocal = np.array(np.where(np.array(trainData['acc_now_delinq']) == 1))\n",
    "for i in delLocal.tolist():\n",
    "    trainData_copy.drop(i, axis=0, inplace=True)\n",
    "trueSize = len(trueData)\n",
    "\n",
    "notBlankIndex = np.where(np.array(trainData_copy['member_id']) > 0)\n",
    "subTrain = pd.concat([trueData, trainData_copy.loc[notBlankIndex][:3139]], axis=0, ignore_index=True)\n",
    "randIndex = random.sample(range(0, len(subTrain)), len(subTrain))\n",
    "subTrain = subTrain.loc[randIndex].reset_index()\n",
    "notBlankIndex = np.where(np.array(subTrain['member_id']) > 0)\n",
    "subTrain = subTrain.loc[notBlankIndex].reset_index()"
   ]
  },
  {
   "cell_type": "code",
   "execution_count": 90,
   "metadata": {},
   "outputs": [],
   "source": [
    "subLabel = subTrain['acc_now_delinq']\n",
    "del subTrain['acc_now_delinq']\n",
    "# subTrain = trainData\n",
    "# subLabel = trainLabel"
   ]
  },
  {
   "cell_type": "code",
   "execution_count": 91,
   "metadata": {},
   "outputs": [],
   "source": [
    "subLabel = list(map(int, subLabel))"
   ]
  },
  {
   "cell_type": "code",
   "execution_count": 92,
   "metadata": {
    "scrolled": false
   },
   "outputs": [],
   "source": [
    "# del subTrain['member_id']\n",
    "# del trainData['member_id']\n",
    "# # del subTrain['acc_now_delinq']\n",
    "# trainData.head()\n",
    "del subTrain['index']\n",
    "del subTrain['member_id']"
   ]
  },
  {
   "cell_type": "code",
   "execution_count": 93,
   "metadata": {},
   "outputs": [],
   "source": [
    "del subTrain['level_0']"
   ]
  },
  {
   "cell_type": "code",
   "execution_count": 94,
   "metadata": {},
   "outputs": [],
   "source": [
    "# corr_matrx = subTrain.corr()\n",
    "# corr_matrx['acc_now_delinq'].sort_values()"
   ]
  },
  {
   "cell_type": "code",
   "execution_count": 95,
   "metadata": {},
   "outputs": [],
   "source": [
    "# from sklearn.ensemble import RandomForestClassifier\n",
    "# # max_depth=13, min_samples_split=50, min_samples_leaf=20, max_features=9,\n",
    "# rnd_clf = RandomForestClassifier(n_estimators=60,  min_samples_split=50, max_depth=13, max_features=9,  oob_score=True)\n",
    "# rnd_clf.fit(subTrain, subLabel)\n",
    "# rnd_pred = rnd_clf.predict(trainData)\n",
    "# rnd_f2 = calc_f2(trainLabel, rnd_pred)\n",
    "# rnd_f2"
   ]
  },
  {
   "cell_type": "code",
   "execution_count": 96,
   "metadata": {},
   "outputs": [],
   "source": [
    "# rnd_pred_prob = rnd_clf.predict_proba(trainData)[:, 1]\n",
    "# print(metrics.accuracy_score(trainLabel, rnd_pred))\n",
    "# print(metrics.roc_auc_score(trainLabel, rnd_pred_prob))"
   ]
  },
  {
   "cell_type": "code",
   "execution_count": 97,
   "metadata": {},
   "outputs": [],
   "source": [
    "# from sklearn.ensemble import BaggingClassifier\n",
    "# bag_rnd = BaggingClassifier(rnd_clf, n_estimators=10, max_samples=1000, bootstrap=True, n_jobs=-1)\n",
    "# bag_rnd.fit(subTrain, subLabel)\n",
    "# rnd_pred = bag_rnd.predict(trainData)\n",
    "# rnd_f2 = calc_f2(trainLabel, rnd_pred)\n",
    "# rnd_f2"
   ]
  },
  {
   "cell_type": "code",
   "execution_count": 98,
   "metadata": {},
   "outputs": [],
   "source": [
    "# from sklearn.ensemble import GradientBoostingClassifier\n",
    "# from sklearn import cross_validation, metrics\n",
    "# gbdt = GradientBoostingClassifier(learning_rate=0.05, min_samples_split=320, min_samples_leaf=7, max_depth=7, \n",
    "#                                  max_features='sqrt', subsample=0.7, random_state=10)\n",
    "# gbdt.fit(subTrain, subLabel)\n",
    "# y_pred = gbdt.predict(trainData)\n",
    "# y_pred_prob = gbdt.predict_proba(trainData)[:, 1]\n",
    "# print(metrics.accuracy_score(trainLabel, y_pred))\n",
    "# print(metrics.roc_auc_score(trainLabel, y_pred_prob))\n",
    "# f2 = calc_f2(trainLabel, y_pred)\n",
    "# f2"
   ]
  },
  {
   "cell_type": "code",
   "execution_count": 99,
   "metadata": {
    "scrolled": false
   },
   "outputs": [],
   "source": [
    "# from xgboost.sklearn import XGBClassifier\n",
    "# xgb1 = XGBClassifier(learning_rate =0.05,\n",
    "#                      n_estimators=1000,\n",
    "#                      max_depth=3,\n",
    "#                      min_child_weight=1,\n",
    "#                      gamma=0.1,\n",
    "#                      subsample=0.8,\n",
    "#                      colsample_bytree=0.8,\n",
    "#                      objective= 'binary:logistic',\n",
    "#                      nthread=4,\n",
    "#                      reg_alpha=0.001,\n",
    "#                      reg_lambda=0.001,\n",
    "#                      scale_pos_weight=1,\n",
    "#                      seed=27)\n",
    "# xgb1.fit(subTrain, subLabel)\n",
    "# xgb1_pred = xgb1.predict(trainData)\n",
    "# xgb1_pred_prob = xgb1.predict_proba(trainData)[:, 1]\n",
    "# print(metrics.accuracy_score(trainLabel, xgb1_pred))\n",
    "# print(metrics.roc_auc_score(trainLabel, xgb1_pred_prob))\n",
    "# xgb1_f2 = calc_f2(trainLabel, xgb1_pred)\n",
    "# print(xgb1_f2)"
   ]
  },
  {
   "cell_type": "code",
   "execution_count": 100,
   "metadata": {},
   "outputs": [],
   "source": [
    "import lightgbm as lgb\n",
    "# lgbTrainData = lgb.Dataset(subTrain, subLabel)\n",
    "# param = {'lambda_l1':[0.5,0.8,1]}\n"
   ]
  },
  {
   "cell_type": "code",
   "execution_count": 101,
   "metadata": {},
   "outputs": [],
   "source": [
    "lgb_clf = lgb.LGBMClassifier(learning_rate=0.1,\n",
    "                            boosting_type='gbdt',\n",
    "                            objective='binary',\n",
    "                            n_estimators=1000,\n",
    "                            metric='auc',\n",
    "                            max_depth=3,\n",
    "                            num_leaves=5,\n",
    "                            subsample=0.7,\n",
    "                            colsample_bytree=0.7,\n",
    "                            min_data_in_leaf=450,\n",
    "                            feature_fraction=0.7,\n",
    "                            bagging_fraction=0.7,\n",
    "                            bagging_freq=6,\n",
    "                            lambda_l1=1,\n",
    "                            lambda_l2=0.001,\n",
    "                            min_gain_to_split=0.265,\n",
    "                            verbose=5,\n",
    "                            is_unbalance=True,\n",
    "                            random_state=10)\n"
   ]
  },
  {
   "cell_type": "code",
   "execution_count": 102,
   "metadata": {},
   "outputs": [
    {
     "data": {
      "text/plain": [
       "LGBMClassifier(bagging_fraction=0.7, bagging_freq=6, boosting_type='gbdt',\n",
       "        class_weight=None, colsample_bytree=0.7, feature_fraction=0.7,\n",
       "        is_unbalance=True, lambda_l1=1, lambda_l2=0.001, learning_rate=0.1,\n",
       "        max_depth=3, metric='auc', min_child_samples=20,\n",
       "        min_child_weight=0.001, min_data_in_leaf=450,\n",
       "        min_gain_to_split=0.265, min_split_gain=0.0, n_estimators=1000,\n",
       "        n_jobs=-1, num_leaves=5, objective='binary', random_state=10,\n",
       "        reg_alpha=0.0, reg_lambda=0.0, silent=True, subsample=0.7,\n",
       "        subsample_for_bin=200000, subsample_freq=1, verbose=5)"
      ]
     },
     "execution_count": 102,
     "metadata": {},
     "output_type": "execute_result"
    }
   ],
   "source": [
    "lgb_clf.fit(subTrain, subLabel)"
   ]
  },
  {
   "cell_type": "code",
   "execution_count": 103,
   "metadata": {},
   "outputs": [],
   "source": [
    "# lgb.plot_importance(lgb_clf, figsize=(10,15))"
   ]
  },
  {
   "cell_type": "code",
   "execution_count": 104,
   "metadata": {},
   "outputs": [],
   "source": [
    "# lgb_clf_pred = lgb_clf.predict(trainData)\n",
    "# lgb_f2 = calc_f2(trainLabel, lgb_clf_pred)\n",
    "# lgb_f2"
   ]
  },
  {
   "cell_type": "code",
   "execution_count": 105,
   "metadata": {},
   "outputs": [],
   "source": [
    "# gsearch2 = GridSearchCV(estimator=lgb_clf, param_grid=param, scoring='roc_auc', n_jobs=4, iid=False, cv=5)\n",
    "# gsearch2.fit(subTrain, subLabel)\n",
    "# print(gsearch2.best_params_)\n",
    "# print(gsearch2.best_score_)"
   ]
  },
  {
   "cell_type": "code",
   "execution_count": 106,
   "metadata": {
    "scrolled": false
   },
   "outputs": [],
   "source": [
    "from sklearn.ensemble import VotingClassifier\n",
    "from xgboost.sklearn import XGBClassifier\n",
    "xgb = XGBClassifier(learning_rate =0.05,\n",
    "                     n_estimators=1000,\n",
    "                     max_depth=3,\n",
    "                     min_child_weight=1,\n",
    "                     gamma=0.1,\n",
    "                     subsample=0.8,\n",
    "                     colsample_bytree=0.8,\n",
    "                     objective= 'binary:logistic',\n",
    "                     nthread=4,\n",
    "                     reg_alpha=0.001,\n",
    "                     reg_lambda=0.001,\n",
    "                     scale_pos_weight=1)\n",
    "\n",
    "import lightgbm as lgb\n",
    "lgb_clf = lgb.LGBMClassifier(learning_rate=0.1,\n",
    "                            boosting_type='gbdt',\n",
    "                            objective='binary',\n",
    "                            n_estimators=1000,\n",
    "                            metric='auc',\n",
    "                            max_depth=3,\n",
    "                            num_leaves=5,\n",
    "                            subsample=0.7,\n",
    "                            colsample_bytree=0.7,\n",
    "                            min_data_in_leaf=450,\n",
    "                            feature_fraction=0.7,\n",
    "                            bagging_fraction=0.7,\n",
    "                            bagging_freq=6,\n",
    "                            lambda_l1=1,\n",
    "                            lambda_l2=0.001,\n",
    "                            min_gain_to_split=0.265,\n",
    "                            verbose=5,\n",
    "                            is_unbalance=True)\n",
    "\n",
    "from sklearn.ensemble import GradientBoostingClassifier\n",
    "gbdt = GradientBoostingClassifier(learning_rate=0.05, min_samples_split=320, min_samples_leaf=7, max_depth=7, \n",
    "                                 max_features='sqrt', subsample=0.7, random_state=10)\n",
    "\n",
    "vot = VotingClassifier(estimators=[('xgb', xgb), ('lgb', lgb_clf)], voting='soft')"
   ]
  },
  {
   "cell_type": "code",
   "execution_count": 107,
   "metadata": {},
   "outputs": [
    {
     "data": {
      "text/plain": [
       "VotingClassifier(estimators=[('xgb', XGBClassifier(base_score=0.5, colsample_bylevel=1, colsample_bytree=0.8,\n",
       "       gamma=0.1, learning_rate=0.05, max_delta_step=0, max_depth=3,\n",
       "       min_child_weight=1, missing=None, n_estimators=1000, nthread=4,\n",
       "       objective='binary:logistic', reg_alpha=0.001, reg_lambda=0.0...da=0.0, silent=True, subsample=0.7,\n",
       "        subsample_for_bin=200000, subsample_freq=1, verbose=5))],\n",
       "         flatten_transform=None, n_jobs=1, voting='soft', weights=None)"
      ]
     },
     "execution_count": 107,
     "metadata": {},
     "output_type": "execute_result"
    }
   ],
   "source": [
    "vot.fit(subTrain,subLabel)"
   ]
  },
  {
   "cell_type": "code",
   "execution_count": 108,
   "metadata": {},
   "outputs": [],
   "source": [
    "vot_pred = vot.predict(testData)\n"
   ]
  },
  {
   "cell_type": "code",
   "execution_count": 109,
   "metadata": {},
   "outputs": [],
   "source": [
    "# from sklearn.ensemble import BaggingClassifier\n",
    "# bag_rnd = BaggingClassifier(vot, n_estimators=10, max_samples=10000, bootstrap=True, n_jobs=-1)\n",
    "# bag_rnd.fit(subTrain, subLabel)\n",
    "# rnd_pred = bag_rnd.predict(trainData)\n",
    "# rnd_f2 = calc_f2(trainLabel, rnd_pred)\n",
    "# rnd_f2"
   ]
  },
  {
   "cell_type": "code",
   "execution_count": 110,
   "metadata": {},
   "outputs": [],
   "source": [
    "submData['acc_now_delinq'] = vot_pred"
   ]
  },
  {
   "cell_type": "code",
   "execution_count": 111,
   "metadata": {},
   "outputs": [],
   "source": [
    "submData.to_csv(submPath, index=False)"
   ]
  },
  {
   "cell_type": "code",
   "execution_count": 112,
   "metadata": {},
   "outputs": [
    {
     "data": {
      "text/html": [
       "<div>\n",
       "<style>\n",
       "    .dataframe thead tr:only-child th {\n",
       "        text-align: right;\n",
       "    }\n",
       "\n",
       "    .dataframe thead th {\n",
       "        text-align: left;\n",
       "    }\n",
       "\n",
       "    .dataframe tbody tr th {\n",
       "        vertical-align: top;\n",
       "    }\n",
       "</style>\n",
       "<table border=\"1\" class=\"dataframe\">\n",
       "  <thead>\n",
       "    <tr style=\"text-align: right;\">\n",
       "      <th></th>\n",
       "      <th>member_id</th>\n",
       "      <th>acc_now_delinq</th>\n",
       "    </tr>\n",
       "  </thead>\n",
       "  <tbody>\n",
       "    <tr>\n",
       "      <th>0</th>\n",
       "      <td>24344352</td>\n",
       "      <td>0</td>\n",
       "    </tr>\n",
       "    <tr>\n",
       "      <th>1</th>\n",
       "      <td>68831083</td>\n",
       "      <td>0</td>\n",
       "    </tr>\n",
       "    <tr>\n",
       "      <th>2</th>\n",
       "      <td>72767821</td>\n",
       "      <td>0</td>\n",
       "    </tr>\n",
       "    <tr>\n",
       "      <th>3</th>\n",
       "      <td>1539914</td>\n",
       "      <td>0</td>\n",
       "    </tr>\n",
       "    <tr>\n",
       "      <th>4</th>\n",
       "      <td>68359086</td>\n",
       "      <td>0</td>\n",
       "    </tr>\n",
       "  </tbody>\n",
       "</table>\n",
       "</div>"
      ],
      "text/plain": [
       "   member_id  acc_now_delinq\n",
       "0   24344352               0\n",
       "1   68831083               0\n",
       "2   72767821               0\n",
       "3    1539914               0\n",
       "4   68359086               0"
      ]
     },
     "execution_count": 112,
     "metadata": {},
     "output_type": "execute_result"
    }
   ],
   "source": [
    "submData = pd.read_csv(submPath)\n",
    "submData.head()"
   ]
  },
  {
   "cell_type": "code",
   "execution_count": 113,
   "metadata": {},
   "outputs": [
    {
     "data": {
      "text/plain": [
       "0    149560\n",
       "1     27916\n",
       "Name: acc_now_delinq, dtype: int64"
      ]
     },
     "execution_count": 113,
     "metadata": {},
     "output_type": "execute_result"
    }
   ],
   "source": [
    "submData['acc_now_delinq'].value_counts()"
   ]
  },
  {
   "cell_type": "code",
   "execution_count": 114,
   "metadata": {
    "scrolled": true
   },
   "outputs": [
    {
     "data": {
      "text/plain": [
       "0         0\n",
       "1         0\n",
       "2         0\n",
       "3         0\n",
       "4         0\n",
       "5         0\n",
       "6         0\n",
       "7         0\n",
       "8         0\n",
       "9         0\n",
       "10        0\n",
       "11        0\n",
       "12        0\n",
       "13        0\n",
       "14        0\n",
       "15        0\n",
       "16        0\n",
       "17        0\n",
       "18        0\n",
       "19        0\n",
       "20        0\n",
       "21        0\n",
       "22        0\n",
       "23        0\n",
       "24        0\n",
       "25        0\n",
       "26        0\n",
       "27        1\n",
       "28        0\n",
       "29        0\n",
       "30        0\n",
       "31        0\n",
       "32        0\n",
       "33        0\n",
       "34        0\n",
       "35        0\n",
       "36        0\n",
       "37        0\n",
       "38        0\n",
       "39        0\n",
       "40        0\n",
       "41        1\n",
       "42        0\n",
       "43        0\n",
       "44        1\n",
       "45        0\n",
       "46        0\n",
       "47        0\n",
       "48        0\n",
       "49        0\n",
       "         ..\n",
       "177426    0\n",
       "177427    0\n",
       "177428    0\n",
       "177429    0\n",
       "177430    0\n",
       "177431    0\n",
       "177432    0\n",
       "177433    0\n",
       "177434    1\n",
       "177435    1\n",
       "177436    0\n",
       "177437    0\n",
       "177438    0\n",
       "177439    0\n",
       "177440    0\n",
       "177441    0\n",
       "177442    0\n",
       "177443    1\n",
       "177444    0\n",
       "177445    0\n",
       "177446    1\n",
       "177447    1\n",
       "177448    1\n",
       "177449    0\n",
       "177450    1\n",
       "177451    1\n",
       "177452    0\n",
       "177453    0\n",
       "177454    0\n",
       "177455    1\n",
       "177456    0\n",
       "177457    0\n",
       "177458    0\n",
       "177459    0\n",
       "177460    0\n",
       "177461    0\n",
       "177462    0\n",
       "177463    0\n",
       "177464    0\n",
       "177465    0\n",
       "177466    0\n",
       "177467    0\n",
       "177468    0\n",
       "177469    0\n",
       "177470    0\n",
       "177471    1\n",
       "177472    0\n",
       "177473    0\n",
       "177474    0\n",
       "177475    0\n",
       "Name: acc_now_delinq, Length: 177476, dtype: int64"
      ]
     },
     "execution_count": 114,
     "metadata": {},
     "output_type": "execute_result"
    }
   ],
   "source": [
    "submData['acc_now_delinq']"
   ]
  },
  {
   "cell_type": "code",
   "execution_count": null,
   "metadata": {},
   "outputs": [],
   "source": []
  },
  {
   "cell_type": "code",
   "execution_count": null,
   "metadata": {},
   "outputs": [],
   "source": []
  },
  {
   "cell_type": "code",
   "execution_count": null,
   "metadata": {},
   "outputs": [],
   "source": []
  },
  {
   "cell_type": "code",
   "execution_count": null,
   "metadata": {},
   "outputs": [],
   "source": []
  }
 ],
 "metadata": {
  "kernelspec": {
   "display_name": "Python 3",
   "language": "python",
   "name": "python3"
  },
  "language_info": {
   "codemirror_mode": {
    "name": "ipython",
    "version": 3
   },
   "file_extension": ".py",
   "mimetype": "text/x-python",
   "name": "python",
   "nbconvert_exporter": "python",
   "pygments_lexer": "ipython3",
   "version": "3.5.4"
  }
 },
 "nbformat": 4,
 "nbformat_minor": 2
}
