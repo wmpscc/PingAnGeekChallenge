{
 "cells": [
  {
   "cell_type": "code",
   "execution_count": 1,
   "metadata": {},
   "outputs": [],
   "source": [
    "import random\n",
    "import pandas as pd\n",
    "import numpy as np\n",
    "import os\n",
    "import random\n",
    "import string\n",
    "import matplotlib.pyplot as plt\n",
    "\n",
    "%matplotlib inline\n",
    "pd.set_option('display.max_columns', 64)\n",
    "pd.set_option('display.max_rows', 100)"
   ]
  },
  {
   "cell_type": "code",
   "execution_count": 2,
   "metadata": {},
   "outputs": [
    {
     "name": "stderr",
     "output_type": "stream",
     "text": [
      "E:\\Anaconda3\\envs\\tensorflow\\lib\\site-packages\\IPython\\core\\interactiveshell.py:2698: DtypeWarning: Columns (45) have mixed types. Specify dtype option on import or set low_memory=False.\n",
      "  interactivity=interactivity, compiler=compiler, result=result)\n"
     ]
    }
   ],
   "source": [
    "# 读入并合并数据\n",
    "homePath = 'game'\n",
    "trainPath = os.path.join(homePath, 'train.csv')\n",
    "# testPath = os.path.join(homePath, 'test.csv')\n",
    "trainData = pd.read_csv(trainPath)\n",
    "# testData = pd.read_csv(testPath)\n",
    "\n",
    "# trainLabel = trainData['acc_now_delinq']\n",
    "# trainData.drop('acc_now_delinq', axis=1, inplace=True)\n",
    "# allData = pd.concat([trainData, testData], axis=0, ignore_index=True)"
   ]
  },
  {
   "cell_type": "code",
   "execution_count": 3,
   "metadata": {
    "scrolled": true
   },
   "outputs": [
    {
     "name": "stderr",
     "output_type": "stream",
     "text": [
      "E:\\Anaconda3\\envs\\tensorflow\\lib\\site-packages\\ipykernel_launcher.py:10: RuntimeWarning: invalid value encountered in greater\n",
      "  # Remove the CWD from sys.path while we load stuff.\n"
     ]
    }
   ],
   "source": [
    "subTrain = trainData.loc[trainData['acc_now_delinq'] == 1]\n",
    "trainData_copy = trainData.copy()\n",
    "delLocal = np.array(np.where(np.array(trainData['acc_now_delinq']) == 1))\n",
    "for i in delLocal.tolist():\n",
    "    trainData_copy.drop(i, axis=0, inplace=True)\n",
    "trainSize = len(subTrain)\n",
    "randIndex = random.sample(range(trainSize, len(trainData_copy)), 5*trainSize)\n",
    "subTrain = pd.concat([subTrain, trainData_copy.loc[randIndex]], axis=0, ignore_index=True)\n",
    "\n",
    "notBlankIndex = np.where(np.array(subTrain['member_id']) > 0)\n",
    "subTrain = subTrain.loc[notBlankIndex][:13172]\n",
    "allData = subTrain.reset_index()"
   ]
  },
  {
   "cell_type": "code",
   "execution_count": 4,
   "metadata": {},
   "outputs": [],
   "source": [
    "# term 贷款的支付次数。数值以几个月为单位，可以是36或60\n",
    "termData = allData['term']\n",
    "termData = termData.str.split(' ', n=2, expand=True)[1]\n",
    "termData = list(map(int, termData))\n",
    "allData['term'] = termData"
   ]
  },
  {
   "cell_type": "code",
   "execution_count": 5,
   "metadata": {},
   "outputs": [],
   "source": [
    "# grade LC分配的贷款等级\n",
    "gradeData = allData['grade']\n",
    "gradeData.replace(['A','B','C','D','E','F','G'], [7,6,5,4,3,2,1],inplace=True)\n",
    "allData['grade'] = gradeData*100"
   ]
  },
  {
   "cell_type": "code",
   "execution_count": 6,
   "metadata": {},
   "outputs": [],
   "source": [
    "# sub_grade LC指定的贷款第二等级\n",
    "subGradeData = allData['sub_grade']\n",
    "subGradeData.replace(['A1','A2','A3','A4','A5','B1','B2','B3','B4','B5','C1','C2','C3','C4','C5','D1','D2','D3','D4','D5','E1','E2','E3','E4','E5','F1','F2','F3','F4','F5','G1','G2','G3','G4','G5'],\n",
    "                    [35,34,33,32,31,30,29,28,27,26,25,24,23,22,21,20,19,18,17,16,15,14,13,12,11,10,9,8,7,6,5,4,3,2,1], inplace=True)\n",
    "allData['sub_grade'] = subGradeData*30"
   ]
  },
  {
   "cell_type": "code",
   "execution_count": 7,
   "metadata": {},
   "outputs": [
    {
     "name": "stderr",
     "output_type": "stream",
     "text": [
      "E:\\Anaconda3\\envs\\tensorflow\\lib\\site-packages\\pandas\\core\\indexing.py:179: SettingWithCopyWarning: \n",
      "A value is trying to be set on a copy of a slice from a DataFrame\n",
      "\n",
      "See the caveats in the documentation: http://pandas.pydata.org/pandas-docs/stable/indexing.html#indexing-view-versus-copy\n",
      "  self._setitem_with_indexer(indexer, value)\n"
     ]
    },
    {
     "name": "stdout",
     "output_type": "stream",
     "text": [
      "1000\n",
      "2000\n",
      "3000\n",
      "4000\n",
      "5000\n",
      "6000\n",
      "7000\n",
      "ok\n"
     ]
    }
   ],
   "source": [
    "# emp_title 借款人申请贷款时提供的职位。*\n",
    "empTitleData = np.array(allData['emp_title'])\n",
    "empTitleData2 = list(allData['emp_title'])\n",
    "empTitleData3 = allData['emp_title']\n",
    "empSet = set(empTitleData2)\n",
    "times = 0\n",
    "for i in empSet:\n",
    "    local = np.where(empTitleData == i)\n",
    "    count = empTitleData2.count(i)\n",
    "    empTitleData3.loc[local] = count\n",
    "    times += 1\n",
    "    if times % 1000 == 0:\n",
    "        print(times)\n",
    "print('ok')\n",
    "# 保存，以防意外停止造成丢失\n",
    "emp = pd.DataFrame(empTitleData)\n",
    "emp.to_csv('empTitle.csv', index=False)"
   ]
  },
  {
   "cell_type": "code",
   "execution_count": 8,
   "metadata": {},
   "outputs": [],
   "source": [
    "# # ********读取\n",
    "# empTitle = pd.read_csv('empTitle.csv')\n",
    "# allData['emp_title'] = empTitle"
   ]
  },
  {
   "cell_type": "code",
   "execution_count": 9,
   "metadata": {
    "scrolled": true
   },
   "outputs": [],
   "source": [
    "# emp_length 就业年限。可能的值在0到10之间，其中0表示少于一年，10表示十年或更多年\n",
    "empLengthData = allData['emp_length']\n",
    "empLengthData.replace(['< 1 year', '1 year', '2 years', '3 years', '4 years', '5 years', '6 years', '7 years', '8 years', '9 years', '10+ years', 'n/a'],\n",
    "                     [1, 2, 3, 4, 5, 6, 7, 8, 9, 10, 11, 0], inplace=True)\n",
    "allData['emp_length'] = empLengthData*10"
   ]
  },
  {
   "cell_type": "code",
   "execution_count": 10,
   "metadata": {},
   "outputs": [],
   "source": [
    "# home_ownership 借款人在注册期间提供的房屋所有权状况。\n",
    "allData['home_ownership'].replace(['MORTGAGE', 'RENT', 'OWN', 'OTHER', 'NONE', 'ANY'], [443557, 356117, 87470, 182, 50, 3], inplace=True)"
   ]
  },
  {
   "cell_type": "code",
   "execution_count": 11,
   "metadata": {},
   "outputs": [],
   "source": [
    "# verification_status 指示共同借款人的联合收入是否通过LC验证，未验证，或收入来源是否经过验证\n",
    "allData['verification_status'].replace(['Source Verified', 'Verified', 'Not Verified'], [329558, 291071, 266750], inplace=True)\n"
   ]
  },
  {
   "cell_type": "code",
   "execution_count": 12,
   "metadata": {},
   "outputs": [],
   "source": [
    "# issue_d 贷款的月份\n",
    "issueDData = allData['issue_d']\n",
    "issueDValueDict = {'Jan': 1, 'Feb': 2, 'Mar': 3, 'Apr': 4, 'May': 5, 'Jun': 6, 'Jul': 7, 'Aug': 8, 'Sep': 9, 'Oct': 10, 'Nov': 11, 'Dec': 12}\n",
    "issueDValue = list()\n",
    "for issueD in issueDData:\n",
    "    issueSplit = issueD.split('-')\n",
    "    month = issueDValueDict[issueSplit[0]]\n",
    "    year = int(issueSplit[1])\n",
    "    issueDValue.append(year*100 + month)\n",
    "allData['issue_d'] = issueDValue"
   ]
  },
  {
   "cell_type": "code",
   "execution_count": 13,
   "metadata": {},
   "outputs": [],
   "source": [
    "# loan_status 贷款的当前状态\n",
    "allData['loan_status'].replace(['Current', 'Fully Paid', 'Charged Off', 'Late (31-120 days)', 'Issued', 'In Grace Period',\n",
    "                                'Late (16-30 days)', 'Does not meet the credit policy. Status:Fully Paid',\n",
    "                               'Default', 'Does not meet the credit policy. Status:Charged Off'], [601779, 207723, 45248, 11591, 8460, 6253,\n",
    "                                                                                                   2357, 1988, 1219, 761], inplace=True)\n"
   ]
  },
  {
   "cell_type": "code",
   "execution_count": 14,
   "metadata": {},
   "outputs": [],
   "source": [
    "# pymnt_plan 指示是否已经为贷款实施了付款计划\n",
    "allData['pymnt_plan'].replace(['n', 'y'], [0, 1], inplace=True)\n"
   ]
  },
  {
   "cell_type": "code",
   "execution_count": 15,
   "metadata": {},
   "outputs": [],
   "source": [
    "# desc 贷款说明由借款人提供\n",
    "allData.drop('desc', axis=1, inplace=True)"
   ]
  },
  {
   "cell_type": "code",
   "execution_count": 16,
   "metadata": {},
   "outputs": [],
   "source": [
    "# purpose 借款人为贷款申请提供的类别。\n",
    "allData['purpose'].replace(['debt_consolidation', 'credit_card', 'home_improvement', 'other', 'major_purchase', 'small_business', 'car',\n",
    "                            'medical', 'moving', 'vacation', 'house', 'wedding', 'renewable_energy', 'educational'], [524215, 206182, 51829,\n",
    "                                42894, 17277, 10377, 8863, 8540, 5414, 4736, 3707, 2347, 575, 423], inplace=True)"
   ]
  },
  {
   "cell_type": "code",
   "execution_count": 17,
   "metadata": {},
   "outputs": [
    {
     "name": "stderr",
     "output_type": "stream",
     "text": [
      "E:\\Anaconda3\\envs\\tensorflow\\lib\\site-packages\\pandas\\core\\indexing.py:179: SettingWithCopyWarning: \n",
      "A value is trying to be set on a copy of a slice from a DataFrame\n",
      "\n",
      "See the caveats in the documentation: http://pandas.pydata.org/pandas-docs/stable/indexing.html#indexing-view-versus-copy\n",
      "  self._setitem_with_indexer(indexer, value)\n"
     ]
    }
   ],
   "source": [
    "# title 借款人提供的贷款头衔\n",
    "titleData = np.array(allData['title'])\n",
    "titleData2 = list(allData['title'])\n",
    "titleData3 = allData['title']\n",
    "titleSet = set(titleData2)\n",
    "for i in titleSet:\n",
    "    local = np.where(titleData == i)\n",
    "    count = titleData2.count(i)\n",
    "    titleData3.loc[local] = count\n",
    "title = pd.DataFrame(titleData)\n",
    "title.to_csv('title.csv', index=False)"
   ]
  },
  {
   "cell_type": "code",
   "execution_count": 18,
   "metadata": {},
   "outputs": [],
   "source": [
    "# # ************读取\n",
    "# title = pd.read_csv('title.csv')\n",
    "# allData['title'] = title"
   ]
  },
  {
   "cell_type": "code",
   "execution_count": 19,
   "metadata": {},
   "outputs": [
    {
     "name": "stderr",
     "output_type": "stream",
     "text": [
      "E:\\Anaconda3\\envs\\tensorflow\\lib\\site-packages\\pandas\\core\\indexing.py:179: SettingWithCopyWarning: \n",
      "A value is trying to be set on a copy of a slice from a DataFrame\n",
      "\n",
      "See the caveats in the documentation: http://pandas.pydata.org/pandas-docs/stable/indexing.html#indexing-view-versus-copy\n",
      "  self._setitem_with_indexer(indexer, value)\n"
     ]
    }
   ],
   "source": [
    "# zip_code 借款人在贷款申请中提供的前3个邮政编码\n",
    "zipCodeData = np.array(allData['zip_code'])\n",
    "zipCodeData2 = list(allData['zip_code'])\n",
    "zipCodeData3 = allData['zip_code']\n",
    "zipCodeSet = set(zipCodeData2)\n",
    "for i in zipCodeSet:\n",
    "    local = np.where(zipCodeData == i)\n",
    "    count = zipCodeData2.count(i)\n",
    "    zipCodeData3.loc[local] = count\n",
    "zipCodeData3.to_csv('zipcode.csv', index=False)"
   ]
  },
  {
   "cell_type": "code",
   "execution_count": 20,
   "metadata": {},
   "outputs": [],
   "source": [
    "# # *******读取\n",
    "# zipCode = pd.read_csv('zipcode.csv')\n",
    "# allData['zip_code'] = zipCode"
   ]
  },
  {
   "cell_type": "code",
   "execution_count": 21,
   "metadata": {},
   "outputs": [
    {
     "name": "stderr",
     "output_type": "stream",
     "text": [
      "E:\\Anaconda3\\envs\\tensorflow\\lib\\site-packages\\pandas\\core\\indexing.py:179: SettingWithCopyWarning: \n",
      "A value is trying to be set on a copy of a slice from a DataFrame\n",
      "\n",
      "See the caveats in the documentation: http://pandas.pydata.org/pandas-docs/stable/indexing.html#indexing-view-versus-copy\n",
      "  self._setitem_with_indexer(indexer, value)\n"
     ]
    }
   ],
   "source": [
    "# addr_state 借款人在贷款申请中提供的州\n",
    "addrStateData = np.array(allData['addr_state'])\n",
    "addrStateData2 = list(allData['addr_state'])\n",
    "addrStateSet= set(addrStateData2)\n",
    "addrStateData3 = allData['addr_state']\n",
    "for i in addrStateSet:\n",
    "    local = np.where(addrStateData == i)\n",
    "    count = addrStateData2.count(i)\n",
    "    addrStateData3.loc[local] = count\n",
    "allData['addr_state'] = addrStateData3"
   ]
  },
  {
   "cell_type": "code",
   "execution_count": 22,
   "metadata": {},
   "outputs": [
    {
     "name": "stdout",
     "output_type": "stream",
     "text": [
      "ok\n"
     ]
    }
   ],
   "source": [
    "# earliest_cr_line 借款人最早报告的信用额度被打开的月份\n",
    "earliestCrLineData = allData['earliest_cr_line']\n",
    "earliestCrLineData = earliestCrLineData.fillna('Sep-99999990')\n",
    "earliestCrLineDict = {'Jan': 1, 'Feb': 2, 'Mar': 3, 'Apr': 4, 'May': 5, 'Jun': 6, 'Jul': 7, 'Aug': 8, 'Sep': 9, 'Oct': 10, 'Nov': 11, 'Dec': 12}\n",
    "earliestCrLineValue = list()\n",
    "for ecl in earliestCrLineData:\n",
    "    eclSplit = ecl.split('-')\n",
    "    eclMonth = earliestCrLineDict[eclSplit[0]]\n",
    "    eclYear = int(eclSplit[1])\n",
    "    earliestCrLineValue.append(eclYear*100 + eclMonth)\n",
    "\n",
    "allData['earliest_cr_line'] = pd.DataFrame(earliestCrLineValue * 10)\n",
    "print('ok')\n"
   ]
  },
  {
   "cell_type": "code",
   "execution_count": 23,
   "metadata": {},
   "outputs": [],
   "source": [
    "# initial_list_status 贷款的初始上市状态。可能的值是 - W，F\n",
    "allData['initial_list_status'].replace(['f','w'], [1, 0], inplace=True)"
   ]
  },
  {
   "cell_type": "code",
   "execution_count": 24,
   "metadata": {},
   "outputs": [],
   "source": [
    "# application_type 表明贷款是个人申请还是与两名共同借款人共同申请\n",
    "allData['application_type'].replace(['INDIVIDUAL', 'JOINT'], [886868, 511], inplace=True)"
   ]
  },
  {
   "cell_type": "code",
   "execution_count": 25,
   "metadata": {},
   "outputs": [],
   "source": [
    "# verification_status_joint 指示共同借款人的共同收入是否经LC核实，未核实，或收入来源是否经核实。\n",
    "allData['verification_status_joint'].replace(['Not Verified', 'Verified', 'Source Verified'], [283, 167, 61], inplace=True)"
   ]
  },
  {
   "cell_type": "code",
   "execution_count": 26,
   "metadata": {},
   "outputs": [],
   "source": [
    "trainLabel = allData['acc_now_delinq']"
   ]
  },
  {
   "cell_type": "code",
   "execution_count": 27,
   "metadata": {
    "scrolled": true
   },
   "outputs": [],
   "source": [
    "allData['emp_title'].fillna(allData['emp_title'].median(), inplace=True)"
   ]
  },
  {
   "cell_type": "code",
   "execution_count": 28,
   "metadata": {},
   "outputs": [],
   "source": [
    "allData['tot_coll_amt'].fillna(allData['tot_coll_amt'].median(), inplace=True)"
   ]
  },
  {
   "cell_type": "code",
   "execution_count": 29,
   "metadata": {},
   "outputs": [],
   "source": [
    "allData['total_rev_hi_lim'].fillna(allData['total_rev_hi_lim'].median(), inplace=True)"
   ]
  },
  {
   "cell_type": "code",
   "execution_count": 30,
   "metadata": {},
   "outputs": [],
   "source": [
    "allData['tot_cur_bal'].fillna(allData['tot_cur_bal'].median(), inplace=True)"
   ]
  },
  {
   "cell_type": "code",
   "execution_count": 31,
   "metadata": {},
   "outputs": [],
   "source": [
    "allData.fillna(99999999, inplace=True)"
   ]
  },
  {
   "cell_type": "code",
   "execution_count": 32,
   "metadata": {},
   "outputs": [],
   "source": [
    "trainData = allData[:6586]\n",
    "testData = allData[6586:]\n",
    "testData.to_csv(os.path.join(homePath, 'test_n.csv'), index=False)\n",
    "trainData.to_csv(os.path.join(homePath, 'train_n.csv'), index=False)"
   ]
  },
  {
   "cell_type": "code",
   "execution_count": 33,
   "metadata": {},
   "outputs": [],
   "source": [
    "# allData.to_csv(os.path.join(homePath, 'train_a.csv'), index=False)"
   ]
  },
  {
   "cell_type": "code",
   "execution_count": null,
   "metadata": {},
   "outputs": [],
   "source": []
  }
 ],
 "metadata": {
  "kernelspec": {
   "display_name": "Python 3",
   "language": "python",
   "name": "python3"
  },
  "language_info": {
   "codemirror_mode": {
    "name": "ipython",
    "version": 3
   },
   "file_extension": ".py",
   "mimetype": "text/x-python",
   "name": "python",
   "nbconvert_exporter": "python",
   "pygments_lexer": "ipython3",
   "version": "3.5.4"
  }
 },
 "nbformat": 4,
 "nbformat_minor": 2
}
