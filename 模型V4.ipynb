{
 "cells": [
  {
   "cell_type": "code",
   "execution_count": 19,
   "metadata": {
    "collapsed": true
   },
   "outputs": [],
   "source": [
    "import pandas as pd\n",
    "import numpy as np\n",
    "import os\n",
    "import matplotlib.pyplot as plt\n",
    "%matplotlib inline\n",
    "pd.set_option('display.max_columns', 64)\n",
    "pd.set_option('display.max_rows', 100)\n",
    "from sklearn.model_selection import GridSearchCV"
   ]
  },
  {
   "cell_type": "code",
   "execution_count": 20,
   "metadata": {
    "collapsed": true
   },
   "outputs": [],
   "source": [
    "homePath = 'game'\n",
    "trainPath = os.path.join(homePath, 'train_fill_t.csv')\n",
    "trainData = pd.read_csv(trainPath)\n",
    "testPath = os.path.join(homePath, 'test_fill_t.csv')\n",
    "testData = pd.read_csv(testPath)\n",
    "submPath = os.path.join(homePath, 'submission.csv')\n",
    "submData = pd.read_csv(submPath)"
   ]
  },
  {
   "cell_type": "code",
   "execution_count": 21,
   "metadata": {
    "collapsed": true
   },
   "outputs": [],
   "source": [
    "trainData['acc_now_delinq'] = list(map(int, trainData['acc_now_delinq']))"
   ]
  },
  {
   "cell_type": "code",
   "execution_count": 22,
   "metadata": {
    "collapsed": true
   },
   "outputs": [],
   "source": [
    "trainLabel = trainData['acc_now_delinq']\n",
    "del trainData['acc_now_delinq']"
   ]
  },
  {
   "cell_type": "code",
   "execution_count": null,
   "metadata": {
    "collapsed": true
   },
   "outputs": [],
   "source": [
    "from sklearn.ensemble import VotingClassifier\n",
    "from xgboost.sklearn import XGBClassifier\n",
    "xgb = XGBClassifier(learning_rate =0.1,\n",
    "                     n_estimators=1000,\n",
    "                     max_depth=3,\n",
    "                     min_child_weight=1,\n",
    "                     gamma=0.1,\n",
    "                     subsample=0.8,\n",
    "                     colsample_bytree=0.8,\n",
    "                     objective= 'binary:logistic',\n",
    "                     nthread=4,\n",
    "                     reg_alpha=0.001,\n",
    "                     reg_lambda=0.001,\n",
    "                     scale_pos_weight=1)\n",
    "\n",
    "import lightgbm as lgb\n",
    "lgb_clf = lgb.LGBMClassifier(learning_rate=0.1,\n",
    "                            boosting_type='gbdt',\n",
    "                            objective='binary',\n",
    "                            n_estimators=1000,\n",
    "                            metric='auc',\n",
    "                            max_depth=3,\n",
    "                            num_leaves=5,\n",
    "                            subsample=0.7,\n",
    "                            colsample_bytree=0.7,\n",
    "                            min_data_in_leaf=450,\n",
    "                            feature_fraction=0.7,\n",
    "                            bagging_fraction=0.7,\n",
    "                            bagging_freq=6,\n",
    "                            lambda_l1=1,\n",
    "                            lambda_l2=0.001,\n",
    "                            min_gain_to_split=0.265,\n",
    "                            verbose=5,\n",
    "                            is_unbalance=True)\n",
    "\n",
    "from sklearn.ensemble import GradientBoostingClassifier\n",
    "gbdt = GradientBoostingClassifier(learning_rate=0.05, min_samples_split=320, min_samples_leaf=7, max_depth=7, \n",
    "                                 max_features='sqrt', subsample=0.7, random_state=10)\n",
    "\n",
    "vot = VotingClassifier(estimators=[('xgb', xgb), ('lgb', lgb_clf)], voting='soft')"
   ]
  },
  {
   "cell_type": "code",
   "execution_count": null,
   "metadata": {},
   "outputs": [],
   "source": [
    "vot.fit(trainData, trainLabel)"
   ]
  },
  {
   "cell_type": "code",
   "execution_count": null,
   "metadata": {
    "collapsed": true
   },
   "outputs": [],
   "source": [
    "vot_pred = vot.predict(testData)"
   ]
  },
  {
   "cell_type": "code",
   "execution_count": null,
   "metadata": {
    "collapsed": true
   },
   "outputs": [],
   "source": [
    "vot_pred = pd.DataFrame(vot_pred)"
   ]
  },
  {
   "cell_type": "code",
   "execution_count": null,
   "metadata": {
    "collapsed": true
   },
   "outputs": [],
   "source": [
    "testData['acc_now_delinq'] = vot_pred"
   ]
  },
  {
   "cell_type": "code",
   "execution_count": null,
   "metadata": {},
   "outputs": [],
   "source": [
    "testData['acc_now_delinq'].value_counts()"
   ]
  },
  {
   "cell_type": "code",
   "execution_count": 17,
   "metadata": {
    "collapsed": true
   },
   "outputs": [],
   "source": [
    "submData['acc_now_delinq'] = vot_pred"
   ]
  },
  {
   "cell_type": "code",
   "execution_count": 18,
   "metadata": {
    "collapsed": true
   },
   "outputs": [],
   "source": [
    "submData.to_csv(os.path.join(homePath, '起名字是最难的.csv'), index=False)"
   ]
  },
  {
   "cell_type": "code",
   "execution_count": null,
   "metadata": {
    "collapsed": true
   },
   "outputs": [],
   "source": []
  }
 ],
 "metadata": {
  "kernelspec": {
   "display_name": "Python 3",
   "language": "python",
   "name": "python3"
  },
  "language_info": {
   "codemirror_mode": {
    "name": "ipython",
    "version": 3
   },
   "file_extension": ".py",
   "mimetype": "text/x-python",
   "name": "python",
   "nbconvert_exporter": "python",
   "pygments_lexer": "ipython3",
   "version": "3.5.4"
  }
 },
 "nbformat": 4,
 "nbformat_minor": 2
}
