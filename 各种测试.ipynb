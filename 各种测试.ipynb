{
 "cells": [
  {
   "cell_type": "code",
   "execution_count": 1,
   "metadata": {
    "collapsed": true
   },
   "outputs": [],
   "source": [
    "import os\n",
    "import pandas as pd\n",
    "import numpy as np"
   ]
  },
  {
   "cell_type": "code",
   "execution_count": 4,
   "metadata": {},
   "outputs": [
    {
     "name": "stderr",
     "output_type": "stream",
     "text": [
      "/home/heolis/anaconda3/envs/tensorflow/lib/python3.5/site-packages/IPython/core/interactiveshell.py:2698: DtypeWarning: Columns (45) have mixed types. Specify dtype option on import or set low_memory=False.\n",
      "  interactivity=interactivity, compiler=compiler, result=result)\n"
     ]
    }
   ],
   "source": [
    "homePath = 'game'\n",
    "trainPath = os.path.join(homePath, 'train.csv')\n",
    "trainData = pd.read_csv(trainPath)"
   ]
  },
  {
   "cell_type": "code",
   "execution_count": 5,
   "metadata": {},
   "outputs": [],
   "source": [
    "allData = trainData[:100]"
   ]
  },
  {
   "cell_type": "code",
   "execution_count": 9,
   "metadata": {},
   "outputs": [],
   "source": [
    "emp = allData['emp_title']"
   ]
  },
  {
   "cell_type": "code",
   "execution_count": 11,
   "metadata": {},
   "outputs": [],
   "source": [
    "value = emp.value_counts()"
   ]
  },
  {
   "cell_type": "code",
   "execution_count": 16,
   "metadata": {},
   "outputs": [
    {
     "data": {
      "text/plain": [
       "1"
      ]
     },
     "execution_count": 16,
     "metadata": {},
     "output_type": "execute_result"
    }
   ],
   "source": [
    "value['Senior Executive Assistant']"
   ]
  },
  {
   "cell_type": "code",
   "execution_count": 14,
   "metadata": {},
   "outputs": [
    {
     "data": {
      "text/plain": [
       "Teacher                              2\n",
       "Maintenance                          2\n",
       "Office Max                           1\n",
       "Senior Executive Assistant           1\n",
       "p.s.e. & g.                          1\n",
       "HEAD STAFF ASSISTANT 28              1\n",
       "Sr. Electrical Designer              1\n",
       "Helpdesk Tech II                     1\n",
       "Elecriction                          1\n",
       "Lead Accountant                      1\n",
       "Thermo Fisher Scientific             1\n",
       "Assistant Principal                  1\n",
       "State of Illinois                    1\n",
       "LG Electronics                       1\n",
       "RN                                   1\n",
       "Administaff/Newview Technologies     1\n",
       "Lead Banquet Captain                 1\n",
       "TMT Entertainment                    1\n",
       "Professor                            1\n",
       "Utility Trailer Manufacturing Co.    1\n",
       "Attorney                             1\n",
       "Claims clerical supervisor           1\n",
       "Front Office Manager                 1\n",
       "Whitko school corporation            1\n",
       "Fabel Designs                        1\n",
       "FULL TIME SALES                      1\n",
       "Engineer                             1\n",
       "Senior Pastor                        1\n",
       "Senior Technician                    1\n",
       "CISO                                 1\n",
       "                                    ..\n",
       "Inventory/Part time Sup              1\n",
       "Officer                              1\n",
       "Regional Business Manger             1\n",
       "Cook Childrens Medical Center        1\n",
       "Industrials Inside Sales Manager     1\n",
       "Post Production Supervisor           1\n",
       "Hoosier Crane Service                1\n",
       "CNC Machinist                        1\n",
       "Cook                                 1\n",
       "Manager HRIS                         1\n",
       "plant mgr                            1\n",
       "Paralegal                            1\n",
       "network technician                   1\n",
       "Audit Control Auditor                1\n",
       "project supervisor                   1\n",
       "Assistant Store Manager              1\n",
       "walmart distribution cntr            1\n",
       "State of California                  1\n",
       "charge nurse                         1\n",
       "CASE MANAGER                         1\n",
       "Operations Supervisor                1\n",
       "Business mgr                         1\n",
       "Police Officer                       1\n",
       "DATA ENTRY CLERK                     1\n",
       "Sr. Linux Systems Administrator      1\n",
       "Assistant store manager              1\n",
       "P.E.T. /C.T. Technologist            1\n",
       "Transcare Ambulance                  1\n",
       "Client Account Director              1\n",
       "Documentation Specialist I           1\n",
       "Name: emp_title, Length: 92, dtype: int64"
      ]
     },
     "execution_count": 14,
     "metadata": {},
     "output_type": "execute_result"
    }
   ],
   "source": [
    "value"
   ]
  },
  {
   "cell_type": "code",
   "execution_count": null,
   "metadata": {
    "collapsed": true
   },
   "outputs": [],
   "source": []
  }
 ],
 "metadata": {
  "kernelspec": {
   "display_name": "Python 3",
   "language": "python",
   "name": "python3"
  },
  "language_info": {
   "codemirror_mode": {
    "name": "ipython",
    "version": 3
   },
   "file_extension": ".py",
   "mimetype": "text/x-python",
   "name": "python",
   "nbconvert_exporter": "python",
   "pygments_lexer": "ipython3",
   "version": "3.5.4"
  }
 },
 "nbformat": 4,
 "nbformat_minor": 2
}
