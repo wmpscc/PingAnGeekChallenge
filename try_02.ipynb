{
 "cells": [
  {
   "cell_type": "code",
   "execution_count": 355,
   "metadata": {},
   "outputs": [],
   "source": [
    "import pandas as pd\n",
    "import numpy as np\n",
    "import os\n",
    "import random\n",
    "import string\n",
    "import matplotlib.pyplot as plt"
   ]
  },
  {
   "cell_type": "code",
   "execution_count": 356,
   "metadata": {},
   "outputs": [],
   "source": [
    "%matplotlib inline\n",
    "pd.set_option('display.max_columns', 64)\n",
    "pd.set_option('display.max_rows', 100)"
   ]
  },
  {
   "cell_type": "code",
   "execution_count": 357,
   "metadata": {
    "scrolled": true
   },
   "outputs": [
    {
     "name": "stderr",
     "output_type": "stream",
     "text": [
      "E:\\Anaconda3\\envs\\tensorflow\\lib\\site-packages\\IPython\\core\\interactiveshell.py:2698: DtypeWarning: Columns (45) have mixed types. Specify dtype option on import or set low_memory=False.\n",
      "  interactivity=interactivity, compiler=compiler, result=result)\n"
     ]
    }
   ],
   "source": [
    "homePath = 'game'\n",
    "trainPath = os.path.join(homePath, 'train.csv')\n",
    "testPath = os.path.join(homePath, 'test.csv')\n",
    "trainData = pd.read_csv(trainPath)\n",
    "testData = pd.read_csv(testPath)"
   ]
  },
  {
   "cell_type": "code",
   "execution_count": null,
   "metadata": {},
   "outputs": [],
   "source": []
  },
  {
   "cell_type": "code",
   "execution_count": 358,
   "metadata": {
    "scrolled": true
   },
   "outputs": [],
   "source": [
    "# trainData['desc'].value_counts()"
   ]
  },
  {
   "cell_type": "code",
   "execution_count": 359,
   "metadata": {},
   "outputs": [],
   "source": [
    "# testData.head(5)"
   ]
  },
  {
   "cell_type": "code",
   "execution_count": 360,
   "metadata": {
    "scrolled": true
   },
   "outputs": [
    {
     "data": {
      "text/plain": [
       "acc_now_delinq                 1.000000\n",
       "total_acc                      0.027241\n",
       "int_rate                       0.027073\n",
       "tot_cur_bal                    0.023586\n",
       "collections_12_mths_ex_med     0.020847\n",
       "member_id                      0.018127\n",
       "annual_inc                     0.015529\n",
       "total_cu_tl                    0.015045\n",
       "out_prncp                      0.013840\n",
       "out_prncp_inv                  0.013830\n",
       "mths_since_rcnt_il             0.012579\n",
       "total_bal_il                   0.012246\n",
       "total_rev_hi_lim               0.009179\n",
       "installment                    0.007723\n",
       "funded_amnt_inv                0.005468\n",
       "funded_amnt                    0.005268\n",
       "loan_amnt                      0.005155\n",
       "dti                            0.003400\n",
       "total_rec_late_fee             0.003357\n",
       "total_rec_int                  0.002578\n",
       "recoveries                     0.000475\n",
       "collection_recovery_fee        0.000203\n",
       "tot_coll_amt                   0.000083\n",
       "pub_rec                        0.000069\n",
       "revol_bal                     -0.000857\n",
       "open_rv_12m                   -0.001411\n",
       "open_il_6m                    -0.001752\n",
       "open_rv_24m                   -0.003272\n",
       "inq_last_12m                  -0.007769\n",
       "total_pymnt_inv               -0.008315\n",
       "total_pymnt                   -0.008523\n",
       "open_acc_6m                   -0.009539\n",
       "total_rec_prncp               -0.010971\n",
       "inq_fi                        -0.012636\n",
       "max_bal_bc                    -0.012874\n",
       "il_util                       -0.014202\n",
       "mths_since_last_record        -0.015803\n",
       "open_il_12m                   -0.016000\n",
       "open_il_24m                   -0.019863\n",
       "revol_util                    -0.029036\n",
       "dti_joint                     -0.031500\n",
       "annual_inc_joint              -0.034491\n",
       "all_util                      -0.036098\n",
       "mths_since_last_major_derog   -0.120086\n",
       "policy_code                         NaN\n",
       "Name: acc_now_delinq, dtype: float64"
      ]
     },
     "execution_count": 360,
     "metadata": {},
     "output_type": "execute_result"
    }
   ],
   "source": [
    "corrMatrix = trainData.corr()\n",
    "corrMatrix['acc_now_delinq'].sort_values(ascending=False)"
   ]
  },
  {
   "cell_type": "code",
   "execution_count": 361,
   "metadata": {
    "scrolled": true
   },
   "outputs": [],
   "source": [
    "# trainData.describe()"
   ]
  },
  {
   "cell_type": "code",
   "execution_count": 362,
   "metadata": {
    "scrolled": true
   },
   "outputs": [],
   "source": [
    "# trainData.info()"
   ]
  },
  {
   "cell_type": "code",
   "execution_count": 363,
   "metadata": {
    "scrolled": true
   },
   "outputs": [],
   "source": [
    "# trainData.hist(bins=50, figsize=(50, 50))"
   ]
  },
  {
   "cell_type": "code",
   "execution_count": 364,
   "metadata": {},
   "outputs": [],
   "source": [
    "trainLabel = trainData['acc_now_delinq']\n",
    "trainData.drop('acc_now_delinq', axis=1, inplace=True)\n",
    "# allData = trainData.append(testData)\n",
    "allData = pd.concat([trainData, testData], axis=0, ignore_index=True)"
   ]
  },
  {
   "cell_type": "code",
   "execution_count": 365,
   "metadata": {},
   "outputs": [
    {
     "data": {
      "text/plain": [
       "36    621125\n",
       "60    266254\n",
       "Name: term, dtype: int64"
      ]
     },
     "execution_count": 365,
     "metadata": {},
     "output_type": "execute_result"
    }
   ],
   "source": [
    "termData = allData['term']\n",
    "termData = termData.str.split(' ', n=2, expand=True)[1]\n",
    "termData = list(map(int, termData))\n",
    "allData['term'] = termData\n",
    "allData['term'].value_counts()"
   ]
  },
  {
   "cell_type": "code",
   "execution_count": 366,
   "metadata": {},
   "outputs": [
    {
     "data": {
      "text/plain": [
       "6    254535\n",
       "5    245860\n",
       "7    148202\n",
       "4    139542\n",
       "3     70705\n",
       "2     23046\n",
       "1      5489\n",
       "Name: grade, dtype: int64"
      ]
     },
     "execution_count": 366,
     "metadata": {},
     "output_type": "execute_result"
    }
   ],
   "source": [
    "gradeData = allData['grade']\n",
    "gradeData.replace(['A','B','C','D','E','F','G'], [7,6,5,4,3,2,1],inplace=True)\n",
    "allData['grade'] = gradeData\n",
    "allData['grade'].value_counts()"
   ]
  },
  {
   "cell_type": "code",
   "execution_count": 367,
   "metadata": {
    "scrolled": true
   },
   "outputs": [
    {
     "data": {
      "text/plain": [
       "28    56323\n",
       "27    55626\n",
       "25    53387\n",
       "24    52236\n",
       "23    50161\n",
       "22    48857\n",
       "26    48833\n",
       "29    48781\n",
       "30    44972\n",
       "31    44816\n",
       "21    41219\n",
       "20    36238\n",
       "32    34531\n",
       "19    29803\n",
       "18    26554\n",
       "17    25558\n",
       "33    23457\n",
       "35    22913\n",
       "34    22485\n",
       "16    21389\n",
       "15    18268\n",
       "14    17004\n",
       "13    14134\n",
       "12    11724\n",
       "11     9575\n",
       "10     7218\n",
       "9      5392\n",
       "8      4433\n",
       "7      3409\n",
       "6      2594\n",
       "5      1871\n",
       "4      1398\n",
       "3       981\n",
       "2       663\n",
       "1       576\n",
       "Name: sub_grade, dtype: int64"
      ]
     },
     "execution_count": 367,
     "metadata": {},
     "output_type": "execute_result"
    }
   ],
   "source": [
    "subGradeData = allData['sub_grade']\n",
    "subGradeData.replace(['A1','A2','A3','A4','A5','B1','B2','B3','B4','B5','C1','C2','C3','C4','C5','D1','D2','D3','D4','D5','E1','E2','E3','E4','E5','F1','F2','F3','F4','F5','G1','G2','G3','G4','G5'],\n",
    "                    [35,34,33,32,31,30,29,28,27,26,25,24,23,22,21,20,19,18,17,16,15,14,13,12,11,10,9,8,7,6,5,4,3,2,1], inplace=True)\n",
    "allData['sub_grade'] = subGradeData\n",
    "allData['sub_grade'].value_counts()"
   ]
  },
  {
   "cell_type": "code",
   "execution_count": 368,
   "metadata": {
    "scrolled": true
   },
   "outputs": [],
   "source": [
    "empLen = allData['emp_length'].value_counts()"
   ]
  },
  {
   "cell_type": "code",
   "execution_count": 369,
   "metadata": {
    "scrolled": false
   },
   "outputs": [
    {
     "data": {
      "text/plain": [
       "<matplotlib.axes._subplots.AxesSubplot at 0x17713f1e0f0>"
      ]
     },
     "execution_count": 369,
     "metadata": {},
     "output_type": "execute_result"
    },
    {
     "data": {
      "image/png": "[encoded data removed]",
      "text/plain": [
       "<matplotlib.figure.Figure at 0x17746c7f9e8>"
      ]
     },
     "metadata": {},
     "output_type": "display_data"
    }
   ],
   "source": [
    "empLen.hist()"
   ]
  },
  {
   "cell_type": "code",
   "execution_count": 370,
   "metadata": {},
   "outputs": [
    {
     "data": {
      "text/plain": [
       "10+ years    291569\n",
       "2 years       78870\n",
       "< 1 year      70605\n",
       "3 years       70026\n",
       "1 year        57095\n",
       "5 years       55704\n",
       "4 years       52529\n",
       "n/a           44825\n",
       "7 years       44594\n",
       "8 years       43955\n",
       "6 years       42950\n",
       "9 years       34657\n",
       "Name: emp_length, dtype: int64"
      ]
     },
     "execution_count": 370,
     "metadata": {},
     "output_type": "execute_result"
    }
   ],
   "source": [
    "empLen"
   ]
  },
  {
   "cell_type": "code",
   "execution_count": 371,
   "metadata": {},
   "outputs": [],
   "source": [
    "empLengthData = allData['emp_length']\n",
    "empLengthData.replace(['< 1 year', '1 year', '2 years', '3 years', '4 years', '5 years', '6 years', '7 years', '8 years', '9 years', '10+ years', 'n/a'],\n",
    "                     [1, 2, 3, 4, 5, 6, 7, 8, 9, 10, 11, 0], inplace=True)"
   ]
  },
  {
   "cell_type": "code",
   "execution_count": 372,
   "metadata": {},
   "outputs": [
    {
     "data": {
      "text/plain": [
       "11    291569\n",
       "3      78870\n",
       "1      70605\n",
       "4      70026\n",
       "2      57095\n",
       "6      55704\n",
       "5      52529\n",
       "0      44825\n",
       "8      44594\n",
       "9      43955\n",
       "7      42950\n",
       "10     34657\n",
       "Name: emp_length, dtype: int64"
      ]
     },
     "execution_count": 372,
     "metadata": {},
     "output_type": "execute_result"
    }
   ],
   "source": [
    "empLengthData.value_counts()"
   ]
  },
  {
   "cell_type": "code",
   "execution_count": 373,
   "metadata": {},
   "outputs": [
    {
     "data": {
      "text/plain": [
       "MORTGAGE    443557\n",
       "RENT        356117\n",
       "OWN          87470\n",
       "OTHER          182\n",
       "NONE            50\n",
       "ANY              3\n",
       "Name: home_ownership, dtype: int64"
      ]
     },
     "execution_count": 373,
     "metadata": {},
     "output_type": "execute_result"
    }
   ],
   "source": [
    "allData['home_ownership'].value_counts()"
   ]
  },
  {
   "cell_type": "code",
   "execution_count": 374,
   "metadata": {},
   "outputs": [],
   "source": [
    "allData['home_ownership'].replace(['MORTGAGE', 'RENT', 'OWN', 'OTHER', 'NONE', 'ANY'], [443557, 356117, 87470, 182, 50, 3], inplace=True)"
   ]
  },
  {
   "cell_type": "code",
   "execution_count": 375,
   "metadata": {},
   "outputs": [
    {
     "data": {
      "text/plain": [
       "<matplotlib.axes._subplots.AxesSubplot at 0x17713eb3278>"
      ]
     },
     "execution_count": 375,
     "metadata": {},
     "output_type": "execute_result"
    },
    {
     "data": {
      "image/png": "[encoded data removed]",
      "text/plain": [
       "<matplotlib.figure.Figure at 0x1772a448da0>"
      ]
     },
     "metadata": {},
     "output_type": "display_data"
    }
   ],
   "source": [
    "allData['home_ownership'].hist()"
   ]
  },
  {
   "cell_type": "code",
   "execution_count": 376,
   "metadata": {},
   "outputs": [
    {
     "data": {
      "text/plain": [
       "Source Verified    329558\n",
       "Verified           291071\n",
       "Not Verified       266750\n",
       "Name: verification_status, dtype: int64"
      ]
     },
     "execution_count": 376,
     "metadata": {},
     "output_type": "execute_result"
    }
   ],
   "source": [
    "allData['verification_status'].value_counts()"
   ]
  },
  {
   "cell_type": "code",
   "execution_count": 377,
   "metadata": {},
   "outputs": [],
   "source": [
    "allData['verification_status'].replace(['Source Verified', 'Verified', 'Not Verified'], [329558, 291071, 266750], inplace=True)"
   ]
  },
  {
   "cell_type": "code",
   "execution_count": 378,
   "metadata": {},
   "outputs": [
    {
     "data": {
      "text/plain": [
       "<matplotlib.axes._subplots.AxesSubplot at 0x177115287b8>"
      ]
     },
     "execution_count": 378,
     "metadata": {},
     "output_type": "execute_result"
    },
    {
     "data": {
      "image/png": "[encoded data removed]",
      "text/plain": [
       "<matplotlib.figure.Figure at 0x177573e3748>"
      ]
     },
     "metadata": {},
     "output_type": "display_data"
    }
   ],
   "source": [
    "allData['verification_status'].hist()"
   ]
  },
  {
   "cell_type": "code",
   "execution_count": 379,
   "metadata": {
    "scrolled": true
   },
   "outputs": [],
   "source": [
    "# allData['issue_d'].value_counts()"
   ]
  },
  {
   "cell_type": "code",
   "execution_count": 380,
   "metadata": {},
   "outputs": [],
   "source": [
    "issueDData = allData['issue_d']\n",
    "issueDValueDict = {'Jan': 1, 'Feb': 2, 'Mar': 3, 'Apr': 4, 'May': 5, 'Jun': 6, 'Jul': 7, 'Aug': 8, 'Sep': 9, 'Oct': 10, 'Nov': 11, 'Dec': 12}\n",
    "issueDValue = list()\n",
    "for issueD in issueDData:\n",
    "    issueSplit = issueD.split('-')\n",
    "    month = issueDValueDict[issueSplit[0]]\n",
    "    year = int(issueSplit[1])\n",
    "    issueDValue.append(year*100 + month)\n",
    "allData['issue_d'] = issueDValue"
   ]
  },
  {
   "cell_type": "code",
   "execution_count": 381,
   "metadata": {},
   "outputs": [
    {
     "data": {
      "text/plain": [
       "Current                                                601779\n",
       "Fully Paid                                             207723\n",
       "Charged Off                                             45248\n",
       "Late (31-120 days)                                      11591\n",
       "Issued                                                   8460\n",
       "In Grace Period                                          6253\n",
       "Late (16-30 days)                                        2357\n",
       "Does not meet the credit policy. Status:Fully Paid       1988\n",
       "Default                                                  1219\n",
       "Does not meet the credit policy. Status:Charged Off       761\n",
       "Name: loan_status, dtype: int64"
      ]
     },
     "execution_count": 381,
     "metadata": {},
     "output_type": "execute_result"
    }
   ],
   "source": [
    "allData['loan_status'].value_counts()"
   ]
  },
  {
   "cell_type": "code",
   "execution_count": 382,
   "metadata": {},
   "outputs": [
    {
     "data": {
      "text/plain": [
       "601779    601779\n",
       "207723    207723\n",
       "45248      45248\n",
       "11591      11591\n",
       "8460        8460\n",
       "6253        6253\n",
       "2357        2357\n",
       "1988        1988\n",
       "1219        1219\n",
       "761          761\n",
       "Name: loan_status, dtype: int64"
      ]
     },
     "execution_count": 382,
     "metadata": {},
     "output_type": "execute_result"
    }
   ],
   "source": [
    "allData['loan_status'].replace(['Current', 'Fully Paid', 'Charged Off', 'Late (31-120 days)', 'Issued', 'In Grace Period',\n",
    "                                'Late (16-30 days)', 'Does not meet the credit policy. Status:Fully Paid',\n",
    "                               'Default', 'Does not meet the credit policy. Status:Charged Off'], [601779, 207723, 45248, 11591, 8460, 6253,\n",
    "                                                                                                   2357, 1988, 1219, 761], inplace=True)\n",
    "allData['loan_status'].value_counts()\n"
   ]
  },
  {
   "cell_type": "code",
   "execution_count": 383,
   "metadata": {},
   "outputs": [],
   "source": [
    "# allData['pymnt_plan'].value_counts()"
   ]
  },
  {
   "cell_type": "code",
   "execution_count": 384,
   "metadata": {},
   "outputs": [],
   "source": [
    "allData['pymnt_plan'].replace(['n', 'y'], [0, 1], inplace=True)"
   ]
  },
  {
   "cell_type": "code",
   "execution_count": 385,
   "metadata": {},
   "outputs": [],
   "source": [
    "# allData['pymnt_plan'].value_counts()"
   ]
  },
  {
   "cell_type": "code",
   "execution_count": 386,
   "metadata": {},
   "outputs": [],
   "source": [
    "# allData['purpose'].value_counts()"
   ]
  },
  {
   "cell_type": "code",
   "execution_count": 387,
   "metadata": {},
   "outputs": [],
   "source": [
    "allData['purpose'].replace(['debt_consolidation', 'credit_card', 'home_improvement', 'other', 'major_purchase', 'small_business', 'car',\n",
    "                            'medical', 'moving', 'vacation', 'house', 'wedding', 'renewable_energy', 'educational'], [524215, 206182, 51829,\n",
    "                                42894, 17277, 10377, 8863, 8540, 5414, 4736, 3707, 2347, 575, 423], inplace=True)"
   ]
  },
  {
   "cell_type": "code",
   "execution_count": 388,
   "metadata": {},
   "outputs": [],
   "source": [
    "# allData['purpose'].value_counts()"
   ]
  },
  {
   "cell_type": "code",
   "execution_count": 389,
   "metadata": {},
   "outputs": [],
   "source": [
    "allData.drop('desc', axis=1, inplace=True)"
   ]
  },
  {
   "cell_type": "code",
   "execution_count": 390,
   "metadata": {
    "scrolled": true
   },
   "outputs": [],
   "source": [
    "# allData['title'].value_counts()"
   ]
  },
  {
   "cell_type": "code",
   "execution_count": 391,
   "metadata": {},
   "outputs": [],
   "source": [
    "# empTitleData = np.array(allData['emp_title'])\n",
    "# empTitleData2 = list(allData['emp_title'])\n",
    "# empList = list(empTitleData)\n",
    "# empSet = set(empList)\n",
    "# empLabel = empSet.pop()\n",
    "# times = 0\n",
    "# for i in empSet:\n",
    "#     local = np.where(empTitleData == i)\n",
    "#     counts = empTitleData2.count(i)\n",
    "#     for j in local:\n",
    "#         empTitleData[j] = counts\n",
    "#     times = times + 1\n",
    "#     print(times)\n"
   ]
  },
  {
   "cell_type": "code",
   "execution_count": 392,
   "metadata": {
    "scrolled": true
   },
   "outputs": [],
   "source": [
    "# titleData = np.array(allData['title'])\n",
    "# titleData2 = list(allData['title'])\n",
    "# titleSet = set(titleData2)\n",
    "# times = 0\n",
    "# for i in titleSet:\n",
    "#     local = np.where(titleData == i)\n",
    "#     counts = titleData2.count(i)\n",
    "#     for j in local:\n",
    "#         titleData[j] = counts\n",
    "#     times = times + 1\n",
    "#     print(times)\n",
    "    \n",
    "    \n",
    "\n"
   ]
  },
  {
   "cell_type": "code",
   "execution_count": 393,
   "metadata": {},
   "outputs": [],
   "source": [
    "# title = pd.DataFrame(titleData)\n",
    "# title.to_csv('title.csv', index=False)"
   ]
  },
  {
   "cell_type": "code",
   "execution_count": 394,
   "metadata": {
    "scrolled": true
   },
   "outputs": [],
   "source": [
    "# allData['zip_code'].value_counts()"
   ]
  },
  {
   "cell_type": "code",
   "execution_count": 395,
   "metadata": {
    "scrolled": true
   },
   "outputs": [],
   "source": [
    "# zipCodeData = np.array(allData['zip_code'])\n",
    "# zipCodeData2 = list(allData['zip_code'])\n",
    "# zipCodeData3 = allData['zip_code']\n",
    "# zipCodeSet = set(zipCodeData2)\n",
    "# t = 0\n",
    "# for i in zipCodeSet:\n",
    "#     local = np.where(zipCodeData == i)\n",
    "#     count = zipCodeData2.count(i)\n",
    "#     zipCodeData3.loc[local] = count\n",
    "#     t += 1\n",
    "#     print(t)\n"
   ]
  },
  {
   "cell_type": "code",
   "execution_count": 396,
   "metadata": {},
   "outputs": [],
   "source": [
    "zipCodeData3.to_csv('zipcode.csv', index=False)"
   ]
  },
  {
   "cell_type": "code",
   "execution_count": 397,
   "metadata": {
    "scrolled": true
   },
   "outputs": [],
   "source": [
    "# allData['addr_state'].value_counts()"
   ]
  },
  {
   "cell_type": "code",
   "execution_count": 398,
   "metadata": {
    "scrolled": true
   },
   "outputs": [
    {
     "name": "stderr",
     "output_type": "stream",
     "text": [
      "E:\\Anaconda3\\envs\\tensorflow\\lib\\site-packages\\pandas\\core\\indexing.py:179: SettingWithCopyWarning: \n",
      "A value is trying to be set on a copy of a slice from a DataFrame\n",
      "\n",
      "See the caveats in the documentation: http://pandas.pydata.org/pandas-docs/stable/indexing.html#indexing-view-versus-copy\n",
      "  self._setitem_with_indexer(indexer, value)\n"
     ]
    }
   ],
   "source": [
    "addrStateData = np.array(allData['addr_state'])\n",
    "addrStateData2 = list(allData['addr_state'])\n",
    "addrStateSet= set(addrStateData2)\n",
    "addrStateData3 = allData['addr_state']\n",
    "t = 0\n",
    "for i in addrStateSet:\n",
    "    local = np.where(addrStateData == i)\n",
    "    count = addrStateData2.count(i)\n",
    "    addrStateData3.loc[local] = count\n",
    "    t += 1\n",
    "#     print(t)"
   ]
  },
  {
   "cell_type": "code",
   "execution_count": 399,
   "metadata": {
    "scrolled": true
   },
   "outputs": [],
   "source": [
    "allData['addr_state'] = addrStateData3\n",
    "# allData['addr_state'].value_counts()"
   ]
  },
  {
   "cell_type": "code",
   "execution_count": 400,
   "metadata": {
    "scrolled": true
   },
   "outputs": [],
   "source": [
    "# allData['earliest_cr_line'].value_counts()"
   ]
  },
  {
   "cell_type": "code",
   "execution_count": 401,
   "metadata": {
    "scrolled": false
   },
   "outputs": [],
   "source": [
    "# allData.info()"
   ]
  },
  {
   "cell_type": "code",
   "execution_count": 405,
   "metadata": {
    "scrolled": true
   },
   "outputs": [
    {
     "name": "stdout",
     "output_type": "stream",
     "text": [
      "ok\n"
     ]
    },
    {
     "data": {
      "text/plain": [
       "200108    6659\n",
       "200008    6529\n",
       "200010    6322\n",
       "200110    6154\n",
       "200208    6086\n",
       "200009    5918\n",
       "199911    5878\n",
       "199910    5824\n",
       "200011    5822\n",
       "200209    5812\n",
       "200210    5684\n",
       "200109    5678\n",
       "200309    5612\n",
       "199908    5598\n",
       "199909    5588\n",
       "200107    5330\n",
       "200111    5223\n",
       "200310    5212\n",
       "200308    5205\n",
       "200103    5173\n",
       "199809    5141\n",
       "200012    5103\n",
       "200409    5075\n",
       "200105    5067\n",
       "200112    5046\n",
       "199912    5019\n",
       "200007    4997\n",
       "199810    4946\n",
       "200106    4930\n",
       "200003    4906\n",
       "200207    4863\n",
       "200005    4829\n",
       "200006    4816\n",
       "200101    4774\n",
       "200307    4742\n",
       "200104    4714\n",
       "199812    4712\n",
       "199811    4710\n",
       "200408    4655\n",
       "199808    4654\n",
       "200002    4613\n",
       "200205    4567\n",
       "200211    4541\n",
       "199907    4491\n",
       "200410    4487\n",
       "200001    4469\n",
       "199903    4460\n",
       "200201    4430\n",
       "200203    4417\n",
       "199710    4413\n",
       "          ... \n",
       "196302       2\n",
       "196009       2\n",
       "195504       2\n",
       "195807       2\n",
       "195001       2\n",
       "195505       2\n",
       "195609       2\n",
       "195008       2\n",
       "194401       2\n",
       "195301       2\n",
       "196106       2\n",
       "195401       2\n",
       "195902       2\n",
       "195611       2\n",
       "195411       2\n",
       "196105       1\n",
       "195808       1\n",
       "195805       1\n",
       "195112       1\n",
       "195903       1\n",
       "194906       1\n",
       "195410       1\n",
       "195503       1\n",
       "196004       1\n",
       "195912       1\n",
       "195107       1\n",
       "196002       1\n",
       "194608       1\n",
       "195108       1\n",
       "195305       1\n",
       "195309       1\n",
       "195711       1\n",
       "195012       1\n",
       "195710       1\n",
       "195709       1\n",
       "196107       1\n",
       "194801       1\n",
       "195705       1\n",
       "195010       1\n",
       "195011       1\n",
       "195803       1\n",
       "195311       1\n",
       "195804       1\n",
       "195005       1\n",
       "195702       1\n",
       "195511       1\n",
       "195508       1\n",
       "195507       1\n",
       "195506       1\n",
       "194601       1\n",
       "Name: earliest_cr_line, Length: 698, dtype: int64"
      ]
     },
     "execution_count": 405,
     "metadata": {},
     "output_type": "execute_result"
    }
   ],
   "source": [
    "earliestCrLineData = allData['earliest_cr_line']\n",
    "earliestCrLineData = earliestCrLineData.fillna('Sep-99999990')\n",
    "earliestCrLineDict = {'Jan': 1, 'Feb': 2, 'Mar': 3, 'Apr': 4, 'May': 5, 'Jun': 6, 'Jul': 7, 'Aug': 8, 'Sep': 9, 'Oct': 10, 'Nov': 11, 'Dec': 12}\n",
    "earliestCrLineValue = list()\n",
    "for ecl in earliestCrLineData:\n",
    "    eclSplit = ecl.split('-')\n",
    "    eclMonth = earliestCrLineDict[eclSplit[0]]\n",
    "    eclYear = int(eclSplit[1])\n",
    "    earliestCrLineValue.append(eclYear*100 + eclMonth)\n",
    "\n",
    "allData['earliest_cr_line'] = pd.DataFrame(earliestCrLineValue)\n",
    "print('ok')\n",
    "allData['earliest_cr_line'].value_counts()"
   ]
  },
  {
   "cell_type": "code",
   "execution_count": 407,
   "metadata": {},
   "outputs": [
    {
     "data": {
      "text/plain": [
       "f    456848\n",
       "w    430531\n",
       "Name: initial_list_status, dtype: int64"
      ]
     },
     "execution_count": 407,
     "metadata": {},
     "output_type": "execute_result"
    }
   ],
   "source": [
    "allData['initial_list_status'].value_counts()"
   ]
  },
  {
   "cell_type": "code",
   "execution_count": 408,
   "metadata": {},
   "outputs": [
    {
     "data": {
      "text/plain": [
       "1    456848\n",
       "0    430531\n",
       "Name: initial_list_status, dtype: int64"
      ]
     },
     "execution_count": 408,
     "metadata": {},
     "output_type": "execute_result"
    }
   ],
   "source": [
    "allData['initial_list_status'].replace(['f','w'], [1, 0], inplace=True)\n",
    "allData['initial_list_status'].value_counts()"
   ]
  },
  {
   "cell_type": "code",
   "execution_count": 409,
   "metadata": {},
   "outputs": [
    {
     "data": {
      "text/plain": [
       "INDIVIDUAL    886868\n",
       "JOINT            511\n",
       "Name: application_type, dtype: int64"
      ]
     },
     "execution_count": 409,
     "metadata": {},
     "output_type": "execute_result"
    }
   ],
   "source": [
    "allData['application_type'].value_counts()"
   ]
  },
  {
   "cell_type": "code",
   "execution_count": 410,
   "metadata": {},
   "outputs": [
    {
     "data": {
      "text/plain": [
       "886868    886868\n",
       "511          511\n",
       "Name: application_type, dtype: int64"
      ]
     },
     "execution_count": 410,
     "metadata": {},
     "output_type": "execute_result"
    }
   ],
   "source": [
    "allData['application_type'].replace(['INDIVIDUAL', 'JOINT'], [886868, 511], inplace=True)\n",
    "allData['application_type'].value_counts()"
   ]
  },
  {
   "cell_type": "code",
   "execution_count": 411,
   "metadata": {},
   "outputs": [
    {
     "data": {
      "text/plain": [
       "Not Verified       283\n",
       "Verified           167\n",
       "Source Verified     61\n",
       "Name: verification_status_joint, dtype: int64"
      ]
     },
     "execution_count": 411,
     "metadata": {},
     "output_type": "execute_result"
    }
   ],
   "source": [
    "allData['verification_status_joint'].value_counts()"
   ]
  },
  {
   "cell_type": "code",
   "execution_count": 412,
   "metadata": {},
   "outputs": [
    {
     "data": {
      "text/plain": [
       "283.0    283\n",
       "167.0    167\n",
       "61.0      61\n",
       "Name: verification_status_joint, dtype: int64"
      ]
     },
     "execution_count": 412,
     "metadata": {},
     "output_type": "execute_result"
    }
   ],
   "source": [
    "allData['verification_status_joint'].replace(['Not Verified', 'Verified', 'Source Verified'], [283, 167, 61], inplace=True)\n",
    "allData['verification_status_joint'].value_counts()"
   ]
  },
  {
   "cell_type": "code",
   "execution_count": null,
   "metadata": {},
   "outputs": [],
   "source": []
  }
 ],
 "metadata": {
  "kernelspec": {
   "display_name": "Python 3",
   "language": "python",
   "name": "python3"
  },
  "language_info": {
   "codemirror_mode": {
    "name": "ipython",
    "version": 3
   },
   "file_extension": ".py",
   "mimetype": "text/x-python",
   "name": "python",
   "nbconvert_exporter": "python",
   "pygments_lexer": "ipython3",
   "version": "3.5.4"
  }
 },
 "nbformat": 4,
 "nbformat_minor": 2
}
