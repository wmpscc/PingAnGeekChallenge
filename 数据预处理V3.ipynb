{
 "cells": [
  {
   "cell_type": "code",
   "execution_count": 1,
   "metadata": {
    "collapsed": true
   },
   "outputs": [],
   "source": [
    "import os\n",
    "import pandas as pd\n",
    "import numpy as np\n",
    "import random\n",
    "import matplotlib.pyplot as plt\n",
    "\n",
    "%matplotlib inline\n",
    "pd.set_option('display.max_columns', 64)\n",
    "pd.set_option('display.max_rows', 100)"
   ]
  },
  {
   "cell_type": "code",
   "execution_count": 2,
   "metadata": {
    "collapsed": true
   },
   "outputs": [],
   "source": [
    "homePath = 'game'\n",
    "trainPath = os.path.join(homePath, 'train_precessing.csv')\n",
    "trainData = pd.read_csv(trainPath)"
   ]
  },
  {
   "cell_type": "code",
   "execution_count": 3,
   "metadata": {
    "collapsed": true
   },
   "outputs": [],
   "source": [
    "def isNaN(num):\n",
    "    return num != num"
   ]
  },
  {
   "cell_type": "markdown",
   "metadata": {},
   "source": [
    "# emp_title 借款人申请贷款时提供的职位。"
   ]
  },
  {
   "cell_type": "code",
   "execution_count": 4,
   "metadata": {
    "collapsed": true
   },
   "outputs": [],
   "source": [
    "trainData['emp_title'].fillna(trainData['emp_title'].median(), inplace=True)"
   ]
  },
  {
   "cell_type": "markdown",
   "metadata": {},
   "source": [
    "# 预测 mths_since_last_record"
   ]
  },
  {
   "cell_type": "code",
   "execution_count": 5,
   "metadata": {},
   "outputs": [
    {
     "data": {
      "text/html": [
       "<div>\n",
       "<style scoped>\n",
       "    .dataframe tbody tr th:only-of-type {\n",
       "        vertical-align: middle;\n",
       "    }\n",
       "\n",
       "    .dataframe tbody tr th {\n",
       "        vertical-align: top;\n",
       "    }\n",
       "\n",
       "    .dataframe thead th {\n",
       "        text-align: right;\n",
       "    }\n",
       "</style>\n",
       "<table border=\"1\" class=\"dataframe\">\n",
       "  <thead>\n",
       "    <tr style=\"text-align: right;\">\n",
       "      <th></th>\n",
       "      <th>loan_amnt</th>\n",
       "      <th>funded_amnt</th>\n",
       "      <th>funded_amnt_inv</th>\n",
       "      <th>term</th>\n",
       "      <th>int_rate</th>\n",
       "      <th>installment</th>\n",
       "      <th>grade</th>\n",
       "      <th>sub_grade</th>\n",
       "      <th>emp_title</th>\n",
       "      <th>emp_length</th>\n",
       "      <th>home_ownership</th>\n",
       "      <th>annual_inc</th>\n",
       "      <th>verification_status</th>\n",
       "      <th>issue_d</th>\n",
       "      <th>loan_status</th>\n",
       "      <th>pymnt_plan</th>\n",
       "      <th>purpose</th>\n",
       "      <th>title</th>\n",
       "      <th>zip_code</th>\n",
       "      <th>addr_state</th>\n",
       "      <th>dti</th>\n",
       "      <th>earliest_cr_line</th>\n",
       "      <th>mths_since_last_record</th>\n",
       "      <th>pub_rec</th>\n",
       "      <th>revol_bal</th>\n",
       "      <th>revol_util</th>\n",
       "      <th>total_acc</th>\n",
       "      <th>initial_list_status</th>\n",
       "      <th>out_prncp</th>\n",
       "      <th>out_prncp_inv</th>\n",
       "      <th>total_pymnt</th>\n",
       "      <th>total_pymnt_inv</th>\n",
       "      <th>total_rec_prncp</th>\n",
       "      <th>total_rec_int</th>\n",
       "      <th>total_rec_late_fee</th>\n",
       "      <th>recoveries</th>\n",
       "      <th>collection_recovery_fee</th>\n",
       "      <th>collections_12_mths_ex_med</th>\n",
       "      <th>policy_code</th>\n",
       "      <th>application_type</th>\n",
       "      <th>acc_now_delinq</th>\n",
       "    </tr>\n",
       "  </thead>\n",
       "  <tbody>\n",
       "    <tr>\n",
       "      <th>0</th>\n",
       "      <td>8875.0</td>\n",
       "      <td>8875.0</td>\n",
       "      <td>8875.0</td>\n",
       "      <td>36</td>\n",
       "      <td>18.25</td>\n",
       "      <td>321.97</td>\n",
       "      <td>400</td>\n",
       "      <td>540</td>\n",
       "      <td>1.0</td>\n",
       "      <td>90.0</td>\n",
       "      <td>443557</td>\n",
       "      <td>55000.0</td>\n",
       "      <td>291071</td>\n",
       "      <td>201403</td>\n",
       "      <td>45248</td>\n",
       "      <td>0</td>\n",
       "      <td>524215</td>\n",
       "      <td>331275.0</td>\n",
       "      <td>5579</td>\n",
       "      <td>56880</td>\n",
       "      <td>23.65</td>\n",
       "      <td>1985020</td>\n",
       "      <td>50.0</td>\n",
       "      <td>1.0</td>\n",
       "      <td>10020.0</td>\n",
       "      <td>60.0</td>\n",
       "      <td>31.0</td>\n",
       "      <td>1</td>\n",
       "      <td>0.00</td>\n",
       "      <td>0.00</td>\n",
       "      <td>6078.11000</td>\n",
       "      <td>6078.11</td>\n",
       "      <td>3124.16</td>\n",
       "      <td>1705.39</td>\n",
       "      <td>0.0</td>\n",
       "      <td>1248.56</td>\n",
       "      <td>224.7408</td>\n",
       "      <td>0.0</td>\n",
       "      <td>1.0</td>\n",
       "      <td>886868</td>\n",
       "      <td>0</td>\n",
       "    </tr>\n",
       "    <tr>\n",
       "      <th>1</th>\n",
       "      <td>12500.0</td>\n",
       "      <td>12500.0</td>\n",
       "      <td>12475.0</td>\n",
       "      <td>36</td>\n",
       "      <td>8.90</td>\n",
       "      <td>396.92</td>\n",
       "      <td>700</td>\n",
       "      <td>930</td>\n",
       "      <td>1.0</td>\n",
       "      <td>20.0</td>\n",
       "      <td>443557</td>\n",
       "      <td>43000.0</td>\n",
       "      <td>329558</td>\n",
       "      <td>201205</td>\n",
       "      <td>207723</td>\n",
       "      <td>0</td>\n",
       "      <td>524215</td>\n",
       "      <td>1.0</td>\n",
       "      <td>338</td>\n",
       "      <td>9282</td>\n",
       "      <td>10.58</td>\n",
       "      <td>1992070</td>\n",
       "      <td>NaN</td>\n",
       "      <td>0.0</td>\n",
       "      <td>13202.0</td>\n",
       "      <td>88.0</td>\n",
       "      <td>18.0</td>\n",
       "      <td>1</td>\n",
       "      <td>0.00</td>\n",
       "      <td>0.00</td>\n",
       "      <td>14287.61483</td>\n",
       "      <td>14259.05</td>\n",
       "      <td>12500.00</td>\n",
       "      <td>1787.61</td>\n",
       "      <td>0.0</td>\n",
       "      <td>0.00</td>\n",
       "      <td>0.0000</td>\n",
       "      <td>0.0</td>\n",
       "      <td>1.0</td>\n",
       "      <td>886868</td>\n",
       "      <td>0</td>\n",
       "    </tr>\n",
       "    <tr>\n",
       "      <th>2</th>\n",
       "      <td>33600.0</td>\n",
       "      <td>33600.0</td>\n",
       "      <td>33600.0</td>\n",
       "      <td>60</td>\n",
       "      <td>18.55</td>\n",
       "      <td>863.31</td>\n",
       "      <td>300</td>\n",
       "      <td>420</td>\n",
       "      <td>25.0</td>\n",
       "      <td>100.0</td>\n",
       "      <td>356117</td>\n",
       "      <td>101300.0</td>\n",
       "      <td>329558</td>\n",
       "      <td>201509</td>\n",
       "      <td>601779</td>\n",
       "      <td>0</td>\n",
       "      <td>524215</td>\n",
       "      <td>331275.0</td>\n",
       "      <td>314</td>\n",
       "      <td>59265</td>\n",
       "      <td>20.00</td>\n",
       "      <td>2001050</td>\n",
       "      <td>NaN</td>\n",
       "      <td>0.0</td>\n",
       "      <td>21467.0</td>\n",
       "      <td>52.0</td>\n",
       "      <td>27.0</td>\n",
       "      <td>0</td>\n",
       "      <td>32552.24</td>\n",
       "      <td>32552.24</td>\n",
       "      <td>2555.30000</td>\n",
       "      <td>2555.30</td>\n",
       "      <td>1047.76</td>\n",
       "      <td>1507.54</td>\n",
       "      <td>0.0</td>\n",
       "      <td>0.00</td>\n",
       "      <td>0.0000</td>\n",
       "      <td>0.0</td>\n",
       "      <td>1.0</td>\n",
       "      <td>886868</td>\n",
       "      <td>0</td>\n",
       "    </tr>\n",
       "    <tr>\n",
       "      <th>3</th>\n",
       "      <td>17000.0</td>\n",
       "      <td>17000.0</td>\n",
       "      <td>17000.0</td>\n",
       "      <td>60</td>\n",
       "      <td>9.71</td>\n",
       "      <td>358.78</td>\n",
       "      <td>600</td>\n",
       "      <td>900</td>\n",
       "      <td>3.0</td>\n",
       "      <td>110.0</td>\n",
       "      <td>443557</td>\n",
       "      <td>47840.0</td>\n",
       "      <td>291071</td>\n",
       "      <td>201308</td>\n",
       "      <td>207723</td>\n",
       "      <td>0</td>\n",
       "      <td>524215</td>\n",
       "      <td>4350.0</td>\n",
       "      <td>3231</td>\n",
       "      <td>56880</td>\n",
       "      <td>4.01</td>\n",
       "      <td>1988090</td>\n",
       "      <td>NaN</td>\n",
       "      <td>0.0</td>\n",
       "      <td>6585.0</td>\n",
       "      <td>28.9</td>\n",
       "      <td>14.0</td>\n",
       "      <td>0</td>\n",
       "      <td>0.00</td>\n",
       "      <td>0.00</td>\n",
       "      <td>18702.48000</td>\n",
       "      <td>18702.48</td>\n",
       "      <td>17000.00</td>\n",
       "      <td>1702.48</td>\n",
       "      <td>0.0</td>\n",
       "      <td>0.00</td>\n",
       "      <td>0.0000</td>\n",
       "      <td>0.0</td>\n",
       "      <td>1.0</td>\n",
       "      <td>886868</td>\n",
       "      <td>0</td>\n",
       "    </tr>\n",
       "    <tr>\n",
       "      <th>4</th>\n",
       "      <td>14000.0</td>\n",
       "      <td>14000.0</td>\n",
       "      <td>14000.0</td>\n",
       "      <td>60</td>\n",
       "      <td>16.99</td>\n",
       "      <td>347.87</td>\n",
       "      <td>400</td>\n",
       "      <td>540</td>\n",
       "      <td>266.0</td>\n",
       "      <td>60.0</td>\n",
       "      <td>356117</td>\n",
       "      <td>30000.0</td>\n",
       "      <td>329558</td>\n",
       "      <td>201507</td>\n",
       "      <td>6253</td>\n",
       "      <td>0</td>\n",
       "      <td>524215</td>\n",
       "      <td>331275.0</td>\n",
       "      <td>1803</td>\n",
       "      <td>26742</td>\n",
       "      <td>31.85</td>\n",
       "      <td>1999030</td>\n",
       "      <td>NaN</td>\n",
       "      <td>0.0</td>\n",
       "      <td>4167.0</td>\n",
       "      <td>40.5</td>\n",
       "      <td>21.0</td>\n",
       "      <td>0</td>\n",
       "      <td>13230.24</td>\n",
       "      <td>13230.24</td>\n",
       "      <td>1712.92000</td>\n",
       "      <td>1712.92</td>\n",
       "      <td>769.76</td>\n",
       "      <td>943.16</td>\n",
       "      <td>0.0</td>\n",
       "      <td>0.00</td>\n",
       "      <td>0.0000</td>\n",
       "      <td>0.0</td>\n",
       "      <td>1.0</td>\n",
       "      <td>886868</td>\n",
       "      <td>0</td>\n",
       "    </tr>\n",
       "  </tbody>\n",
       "</table>\n",
       "</div>"
      ],
      "text/plain": [
       "   loan_amnt  funded_amnt  funded_amnt_inv  term  int_rate  installment  \\\n",
       "0     8875.0       8875.0           8875.0    36     18.25       321.97   \n",
       "1    12500.0      12500.0          12475.0    36      8.90       396.92   \n",
       "2    33600.0      33600.0          33600.0    60     18.55       863.31   \n",
       "3    17000.0      17000.0          17000.0    60      9.71       358.78   \n",
       "4    14000.0      14000.0          14000.0    60     16.99       347.87   \n",
       "\n",
       "   grade  sub_grade  emp_title  emp_length  home_ownership  annual_inc  \\\n",
       "0    400        540        1.0        90.0          443557     55000.0   \n",
       "1    700        930        1.0        20.0          443557     43000.0   \n",
       "2    300        420       25.0       100.0          356117    101300.0   \n",
       "3    600        900        3.0       110.0          443557     47840.0   \n",
       "4    400        540      266.0        60.0          356117     30000.0   \n",
       "\n",
       "   verification_status  issue_d  loan_status  pymnt_plan  purpose     title  \\\n",
       "0               291071   201403        45248           0   524215  331275.0   \n",
       "1               329558   201205       207723           0   524215       1.0   \n",
       "2               329558   201509       601779           0   524215  331275.0   \n",
       "3               291071   201308       207723           0   524215    4350.0   \n",
       "4               329558   201507         6253           0   524215  331275.0   \n",
       "\n",
       "   zip_code  addr_state    dti  earliest_cr_line  mths_since_last_record  \\\n",
       "0      5579       56880  23.65           1985020                    50.0   \n",
       "1       338        9282  10.58           1992070                     NaN   \n",
       "2       314       59265  20.00           2001050                     NaN   \n",
       "3      3231       56880   4.01           1988090                     NaN   \n",
       "4      1803       26742  31.85           1999030                     NaN   \n",
       "\n",
       "   pub_rec  revol_bal  revol_util  total_acc  initial_list_status  out_prncp  \\\n",
       "0      1.0    10020.0        60.0       31.0                    1       0.00   \n",
       "1      0.0    13202.0        88.0       18.0                    1       0.00   \n",
       "2      0.0    21467.0        52.0       27.0                    0   32552.24   \n",
       "3      0.0     6585.0        28.9       14.0                    0       0.00   \n",
       "4      0.0     4167.0        40.5       21.0                    0   13230.24   \n",
       "\n",
       "   out_prncp_inv  total_pymnt  total_pymnt_inv  total_rec_prncp  \\\n",
       "0           0.00   6078.11000          6078.11          3124.16   \n",
       "1           0.00  14287.61483         14259.05         12500.00   \n",
       "2       32552.24   2555.30000          2555.30          1047.76   \n",
       "3           0.00  18702.48000         18702.48         17000.00   \n",
       "4       13230.24   1712.92000          1712.92           769.76   \n",
       "\n",
       "   total_rec_int  total_rec_late_fee  recoveries  collection_recovery_fee  \\\n",
       "0        1705.39                 0.0     1248.56                 224.7408   \n",
       "1        1787.61                 0.0        0.00                   0.0000   \n",
       "2        1507.54                 0.0        0.00                   0.0000   \n",
       "3        1702.48                 0.0        0.00                   0.0000   \n",
       "4         943.16                 0.0        0.00                   0.0000   \n",
       "\n",
       "   collections_12_mths_ex_med  policy_code  application_type  acc_now_delinq  \n",
       "0                         0.0          1.0            886868               0  \n",
       "1                         0.0          1.0            886868               0  \n",
       "2                         0.0          1.0            886868               0  \n",
       "3                         0.0          1.0            886868               0  \n",
       "4                         0.0          1.0            886868               0  "
      ]
     },
     "execution_count": 5,
     "metadata": {},
     "output_type": "execute_result"
    }
   ],
   "source": [
    "fullData = trainData.copy()\n",
    "del fullData['member_id']\n",
    "del fullData['mths_since_last_major_derog']\n",
    "del fullData['annual_inc_joint']\n",
    "del fullData['dti_joint']\n",
    "del fullData['verification_status_joint']\n",
    "del fullData['tot_coll_amt']\n",
    "del fullData['tot_cur_bal']\n",
    "del fullData['open_acc_6m']\n",
    "del fullData['open_il_6m']\n",
    "del fullData['open_il_12m']\n",
    "del fullData['open_il_24m']\n",
    "del fullData['mths_since_rcnt_il']\n",
    "del fullData['total_bal_il']\n",
    "del fullData['il_util']\n",
    "del fullData['open_rv_12m']\n",
    "del fullData['open_rv_24m']\n",
    "del fullData['max_bal_bc']\n",
    "del fullData['all_util']\n",
    "del fullData['total_rev_hi_lim']\n",
    "del fullData['inq_fi']\n",
    "del fullData['total_cu_tl']\n",
    "del fullData['inq_last_12m']\n",
    "fullData.head()"
   ]
  },
  {
   "cell_type": "code",
   "execution_count": 6,
   "metadata": {
    "collapsed": true
   },
   "outputs": [],
   "source": [
    "fullData['emp_length'].fillna(fullData['emp_length'].median(), inplace=True)\n",
    "fullData['annual_inc'].fillna(fullData['annual_inc'].median(), inplace=True)\n",
    "fullData['title'].fillna(fullData['title'].median(), inplace=True)\n",
    "fullData['pub_rec'].fillna(fullData['pub_rec'].median(), inplace=True)\n",
    "fullData['revol_util'].fillna(fullData['revol_util'].median(), inplace=True)\n",
    "fullData['total_acc'].fillna(fullData['total_acc'].median(), inplace=True)\n",
    "fullData['collections_12_mths_ex_med'].fillna(fullData['collections_12_mths_ex_med'].median(), inplace=True)"
   ]
  },
  {
   "cell_type": "code",
   "execution_count": 7,
   "metadata": {
    "collapsed": true
   },
   "outputs": [],
   "source": [
    "mthsLastTrain = fullData.loc[fullData['mths_since_last_record'] >= 0]\n",
    "mthsLastTest = fullData.copy()\n",
    "delMthsLastLocal = np.array(np.where(np.array(fullData['mths_since_last_record'] >= 0)))\n",
    "for i in delMthsLastLocal.tolist():\n",
    "    mthsLastTest.drop(i, axis=0, inplace=True)\n",
    "mthsLastTest = mthsLastTest.reset_index()\n",
    "mthsLastTrain = mthsLastTrain.reset_index()"
   ]
  },
  {
   "cell_type": "code",
   "execution_count": 8,
   "metadata": {
    "collapsed": true
   },
   "outputs": [],
   "source": [
    "mthsLastTrainLabel = mthsLastTrain['mths_since_last_record']\n",
    "del mthsLastTrain['mths_since_last_record']\n",
    "\n",
    "mthsLastTestLabel = mthsLastTest['mths_since_last_record']\n",
    "del mthsLastTest['mths_since_last_record']"
   ]
  },
  {
   "cell_type": "code",
   "execution_count": 9,
   "metadata": {
    "collapsed": true
   },
   "outputs": [],
   "source": [
    "from sklearn.preprocessing import StandardScaler\n",
    "ss = StandardScaler()\n",
    "ss.fit(mthsLastTrain)\n",
    "mthsLastTrain_d = ss.transform(mthsLastTrain)\n",
    "mthsLastTest_d = ss.transform(mthsLastTest)"
   ]
  },
  {
   "cell_type": "code",
   "execution_count": 10,
   "metadata": {
    "collapsed": true
   },
   "outputs": [],
   "source": [
    "from sklearn import linear_model\n",
    "lin = linear_model.BayesianRidge()"
   ]
  },
  {
   "cell_type": "code",
   "execution_count": 11,
   "metadata": {},
   "outputs": [
    {
     "data": {
      "text/plain": [
       "BayesianRidge(alpha_1=1e-06, alpha_2=1e-06, compute_score=False, copy_X=True,\n",
       "       fit_intercept=True, lambda_1=1e-06, lambda_2=1e-06, n_iter=300,\n",
       "       normalize=False, tol=0.001, verbose=False)"
      ]
     },
     "execution_count": 11,
     "metadata": {},
     "output_type": "execute_result"
    }
   ],
   "source": [
    "lin.fit(mthsLastTrain_d, mthsLastTrainLabel)"
   ]
  },
  {
   "cell_type": "code",
   "execution_count": 12,
   "metadata": {
    "collapsed": true
   },
   "outputs": [],
   "source": [
    "trainData.loc[(trainData['mths_since_last_record'].isnull()), 'mths_since_last_record'] = lin.predict(mthsLastTest_d)"
   ]
  },
  {
   "cell_type": "markdown",
   "metadata": {},
   "source": [
    "# 预测 mths_since_last_major_derog"
   ]
  },
  {
   "cell_type": "code",
   "execution_count": 13,
   "metadata": {
    "collapsed": true
   },
   "outputs": [],
   "source": [
    "fullData = trainData.copy()\n",
    "del fullData['member_id']\n",
    "del fullData['annual_inc_joint']\n",
    "del fullData['dti_joint']\n",
    "del fullData['verification_status_joint']\n",
    "del fullData['tot_coll_amt']\n",
    "del fullData['tot_cur_bal']\n",
    "del fullData['open_acc_6m']\n",
    "del fullData['open_il_6m']\n",
    "del fullData['open_il_12m']\n",
    "del fullData['open_il_24m']\n",
    "del fullData['mths_since_rcnt_il']\n",
    "del fullData['total_bal_il']\n",
    "del fullData['il_util']\n",
    "del fullData['open_rv_12m']\n",
    "del fullData['open_rv_24m']\n",
    "del fullData['max_bal_bc']\n",
    "del fullData['all_util']\n",
    "del fullData['total_rev_hi_lim']\n",
    "del fullData['inq_fi']\n",
    "del fullData['total_cu_tl']\n",
    "del fullData['inq_last_12m']"
   ]
  },
  {
   "cell_type": "code",
   "execution_count": 14,
   "metadata": {
    "collapsed": true
   },
   "outputs": [],
   "source": [
    "fullData['emp_length'].fillna(fullData['emp_length'].median(), inplace=True)\n",
    "fullData['annual_inc'].fillna(fullData['annual_inc'].median(), inplace=True)\n",
    "fullData['title'].fillna(fullData['title'].median(), inplace=True)\n",
    "fullData['pub_rec'].fillna(fullData['pub_rec'].median(), inplace=True)\n",
    "fullData['revol_util'].fillna(fullData['revol_util'].median(), inplace=True)\n",
    "fullData['total_acc'].fillna(fullData['total_acc'].median(), inplace=True)\n",
    "fullData['collections_12_mths_ex_med'].fillna(fullData['collections_12_mths_ex_med'].median(), inplace=True)"
   ]
  },
  {
   "cell_type": "code",
   "execution_count": 15,
   "metadata": {
    "collapsed": true
   },
   "outputs": [],
   "source": [
    "mthsMajorTrain = fullData.loc[fullData['mths_since_last_major_derog'] >= 0]\n",
    "mthsMajorTest = fullData.copy()\n",
    "delMthsMajorLocal = np.array(np.where(np.array(fullData['mths_since_last_major_derog'] >= 0)))\n",
    "for i in delMthsMajorLocal.tolist():\n",
    "    mthsMajorTest.drop(i, axis=0, inplace=True)\n",
    "mthsMajorTest = mthsMajorTest.reset_index()\n",
    "mthsMajorTrain = mthsMajorTrain.reset_index()\n",
    "\n",
    "mthsMajorTrainLabel = mthsMajorTrain['mths_since_last_major_derog']\n",
    "del mthsMajorTrain['mths_since_last_major_derog']\n",
    "\n",
    "mthsMajorTestLabel = mthsMajorTest['mths_since_last_major_derog']\n",
    "del mthsMajorTest['mths_since_last_major_derog']\n",
    "\n",
    "from sklearn.preprocessing import StandardScaler\n",
    "ss = StandardScaler()\n",
    "ss.fit(mthsMajorTrain)\n",
    "mthsMajorTrain_d = ss.transform(mthsMajorTrain)\n",
    "mthsMajorTest_d = ss.transform(mthsMajorTest)\n",
    "\n",
    "from sklearn import linear_model\n",
    "lin = linear_model.BayesianRidge()\n",
    "\n",
    "lin.fit(mthsMajorTrain_d, mthsMajorTrainLabel)\n",
    "\n",
    "trainData.loc[(trainData['mths_since_last_major_derog'].isnull()), 'mths_since_last_major_derog'] = lin.predict(mthsMajorTest_d)"
   ]
  },
  {
   "cell_type": "markdown",
   "metadata": {},
   "source": [
    "# 预测 annual_inc_joint"
   ]
  },
  {
   "cell_type": "code",
   "execution_count": 16,
   "metadata": {
    "collapsed": true
   },
   "outputs": [],
   "source": [
    "fullData = trainData.copy()\n",
    "del fullData['member_id']\n",
    "del fullData['dti_joint']\n",
    "del fullData['verification_status_joint']\n",
    "del fullData['tot_coll_amt']\n",
    "del fullData['tot_cur_bal']\n",
    "del fullData['open_acc_6m']\n",
    "del fullData['open_il_6m']\n",
    "del fullData['open_il_12m']\n",
    "del fullData['open_il_24m']\n",
    "del fullData['mths_since_rcnt_il']\n",
    "del fullData['total_bal_il']\n",
    "del fullData['il_util']\n",
    "del fullData['open_rv_12m']\n",
    "del fullData['open_rv_24m']\n",
    "del fullData['max_bal_bc']\n",
    "del fullData['all_util']\n",
    "del fullData['total_rev_hi_lim']\n",
    "del fullData['inq_fi']\n",
    "del fullData['total_cu_tl']\n",
    "del fullData['inq_last_12m']"
   ]
  },
  {
   "cell_type": "code",
   "execution_count": 17,
   "metadata": {
    "collapsed": true
   },
   "outputs": [],
   "source": [
    "fullData['emp_length'].fillna(fullData['emp_length'].median(), inplace=True)\n",
    "fullData['annual_inc'].fillna(fullData['annual_inc'].median(), inplace=True)\n",
    "fullData['title'].fillna(fullData['title'].median(), inplace=True)\n",
    "fullData['pub_rec'].fillna(fullData['pub_rec'].median(), inplace=True)\n",
    "fullData['revol_util'].fillna(fullData['revol_util'].median(), inplace=True)\n",
    "fullData['total_acc'].fillna(fullData['total_acc'].median(), inplace=True)\n",
    "fullData['collections_12_mths_ex_med'].fillna(fullData['collections_12_mths_ex_med'].median(), inplace=True)"
   ]
  },
  {
   "cell_type": "code",
   "execution_count": 18,
   "metadata": {
    "collapsed": true
   },
   "outputs": [],
   "source": [
    "incJointTrain = fullData.loc[fullData['annual_inc_joint'] >= 0]\n",
    "incJointTest = fullData.copy()\n",
    "delIncJointLocal = np.array(np.where(np.array(fullData['annual_inc_joint'] >= 0)))\n",
    "for i in delIncJointLocal.tolist():\n",
    "    incJointTest.drop(i, axis=0, inplace=True)\n",
    "incJointTest = incJointTest.reset_index()\n",
    "incJointTrain = incJointTrain.reset_index()\n",
    "\n",
    "incJointTrainLabel = incJointTrain['annual_inc_joint']\n",
    "del incJointTrain['annual_inc_joint']\n",
    "\n",
    "incJointTestLabel = incJointTest['annual_inc_joint']\n",
    "del incJointTest['annual_inc_joint']\n",
    "\n",
    "from sklearn.preprocessing import StandardScaler\n",
    "ss = StandardScaler()\n",
    "ss.fit(incJointTrain)\n",
    "incJointTrain_d = ss.transform(incJointTrain)\n",
    "incJointTest_d = ss.transform(incJointTest)\n",
    "\n",
    "from sklearn import linear_model\n",
    "lin = linear_model.BayesianRidge()\n",
    "\n",
    "lin.fit(incJointTrain_d, incJointTrainLabel)\n",
    "\n",
    "trainData.loc[(trainData['annual_inc_joint'].isnull()), 'annual_inc_joint'] = lin.predict(incJointTest_d)"
   ]
  },
  {
   "cell_type": "markdown",
   "metadata": {},
   "source": [
    "# 预测 dti_joint"
   ]
  },
  {
   "cell_type": "code",
   "execution_count": 19,
   "metadata": {
    "collapsed": true
   },
   "outputs": [],
   "source": [
    "fullData = trainData.copy()\n",
    "del fullData['member_id']\n",
    "del fullData['verification_status_joint']\n",
    "del fullData['tot_coll_amt']\n",
    "del fullData['tot_cur_bal']\n",
    "del fullData['open_acc_6m']\n",
    "del fullData['open_il_6m']\n",
    "del fullData['open_il_12m']\n",
    "del fullData['open_il_24m']\n",
    "del fullData['mths_since_rcnt_il']\n",
    "del fullData['total_bal_il']\n",
    "del fullData['il_util']\n",
    "del fullData['open_rv_12m']\n",
    "del fullData['open_rv_24m']\n",
    "del fullData['max_bal_bc']\n",
    "del fullData['all_util']\n",
    "del fullData['total_rev_hi_lim']\n",
    "del fullData['inq_fi']\n",
    "del fullData['total_cu_tl']\n",
    "del fullData['inq_last_12m']"
   ]
  },
  {
   "cell_type": "code",
   "execution_count": 20,
   "metadata": {
    "collapsed": true
   },
   "outputs": [],
   "source": [
    "fullData['emp_length'].fillna(fullData['emp_length'].median(), inplace=True)\n",
    "fullData['annual_inc'].fillna(fullData['annual_inc'].median(), inplace=True)\n",
    "fullData['title'].fillna(fullData['title'].median(), inplace=True)\n",
    "fullData['pub_rec'].fillna(fullData['pub_rec'].median(), inplace=True)\n",
    "fullData['revol_util'].fillna(fullData['revol_util'].median(), inplace=True)\n",
    "fullData['total_acc'].fillna(fullData['total_acc'].median(), inplace=True)\n",
    "fullData['collections_12_mths_ex_med'].fillna(fullData['collections_12_mths_ex_med'].median(), inplace=True)"
   ]
  },
  {
   "cell_type": "code",
   "execution_count": 21,
   "metadata": {
    "collapsed": true
   },
   "outputs": [],
   "source": [
    "dtiJointTrain = fullData.loc[fullData['dti_joint'] >= 0]\n",
    "dtiJointTest = fullData.copy()\n",
    "delDtiJointLocal = np.array(np.where(np.array(fullData['dti_joint'] >= 0)))\n",
    "for i in delDtiJointLocal.tolist():\n",
    "    dtiJointTest.drop(i, axis=0, inplace=True)\n",
    "dtiJointTest = dtiJointTest.reset_index()\n",
    "dtiJointTrain = dtiJointTrain.reset_index()\n",
    "\n",
    "dtiJointTrainLabel = dtiJointTrain['dti_joint']\n",
    "del dtiJointTrain['dti_joint']\n",
    "\n",
    "dtiJointTestLabel = dtiJointTest['dti_joint']\n",
    "del dtiJointTest['dti_joint']\n",
    "\n",
    "from sklearn.preprocessing import StandardScaler\n",
    "ss = StandardScaler()\n",
    "ss.fit(dtiJointTrain)\n",
    "dtiJointTrain_d = ss.transform(dtiJointTrain)\n",
    "dtiJointTest_d = ss.transform(dtiJointTest)\n",
    "\n",
    "from sklearn import linear_model\n",
    "lin = linear_model.BayesianRidge()\n",
    "\n",
    "lin.fit(dtiJointTrain_d, dtiJointTrainLabel)\n",
    "\n",
    "trainData.loc[(trainData['dti_joint'].isnull()), 'dti_joint'] = lin.predict(dtiJointTest_d)"
   ]
  },
  {
   "cell_type": "markdown",
   "metadata": {},
   "source": [
    "# 预测 verification_status_joint"
   ]
  },
  {
   "cell_type": "code",
   "execution_count": 22,
   "metadata": {
    "collapsed": true
   },
   "outputs": [],
   "source": [
    "fullData = trainData.copy()\n",
    "del fullData['member_id']\n",
    "del fullData['tot_coll_amt']\n",
    "del fullData['tot_cur_bal']\n",
    "del fullData['open_acc_6m']\n",
    "del fullData['open_il_6m']\n",
    "del fullData['open_il_12m']\n",
    "del fullData['open_il_24m']\n",
    "del fullData['mths_since_rcnt_il']\n",
    "del fullData['total_bal_il']\n",
    "del fullData['il_util']\n",
    "del fullData['open_rv_12m']\n",
    "del fullData['open_rv_24m']\n",
    "del fullData['max_bal_bc']\n",
    "del fullData['all_util']\n",
    "del fullData['total_rev_hi_lim']\n",
    "del fullData['inq_fi']\n",
    "del fullData['total_cu_tl']\n",
    "del fullData['inq_last_12m']"
   ]
  },
  {
   "cell_type": "code",
   "execution_count": 23,
   "metadata": {
    "collapsed": true
   },
   "outputs": [],
   "source": [
    "fullData['emp_length'].fillna(fullData['emp_length'].median(), inplace=True)\n",
    "fullData['annual_inc'].fillna(fullData['annual_inc'].median(), inplace=True)\n",
    "fullData['title'].fillna(fullData['title'].median(), inplace=True)\n",
    "fullData['pub_rec'].fillna(fullData['pub_rec'].median(), inplace=True)\n",
    "fullData['revol_util'].fillna(fullData['revol_util'].median(), inplace=True)\n",
    "fullData['total_acc'].fillna(fullData['total_acc'].median(), inplace=True)\n",
    "fullData['collections_12_mths_ex_med'].fillna(fullData['collections_12_mths_ex_med'].median(), inplace=True)"
   ]
  },
  {
   "cell_type": "code",
   "execution_count": 24,
   "metadata": {
    "collapsed": true
   },
   "outputs": [],
   "source": [
    "verJointTrain = fullData.loc[fullData['verification_status_joint'] >= 0]\n",
    "verJointTest = fullData.copy()\n",
    "delVerJointLocal = np.array(np.where(np.array(fullData['verification_status_joint'] >= 0)))\n",
    "for i in delVerJointLocal.tolist():\n",
    "    verJointTest.drop(i, axis=0, inplace=True)\n",
    "verJointTest = verJointTest.reset_index()\n",
    "verJointTrain = verJointTrain.reset_index()\n",
    "\n",
    "verJointTrainLabel = verJointTrain['verification_status_joint']\n",
    "del verJointTrain['verification_status_joint']\n",
    "\n",
    "verJointTestLabel = verJointTest['verification_status_joint']\n",
    "del verJointTest['verification_status_joint']\n",
    "\n",
    "from sklearn.preprocessing import StandardScaler\n",
    "ss = StandardScaler()\n",
    "ss.fit(verJointTrain)\n",
    "verJointTrain_d = ss.transform(verJointTrain)\n",
    "verJointTest_d = ss.transform(verJointTest)\n",
    "\n",
    "from sklearn import linear_model\n",
    "lin = linear_model.BayesianRidge()\n",
    "\n",
    "lin.fit(verJointTrain_d, verJointTrainLabel)\n",
    "\n",
    "trainData.loc[(trainData['verification_status_joint'].isnull()), 'verification_status_joint'] = lin.predict(verJointTest_d)"
   ]
  },
  {
   "cell_type": "markdown",
   "metadata": {},
   "source": [
    "# 预测 tot_coll_amt"
   ]
  },
  {
   "cell_type": "code",
   "execution_count": 25,
   "metadata": {
    "collapsed": true
   },
   "outputs": [],
   "source": [
    "fullData = trainData.copy()\n",
    "del fullData['member_id']\n",
    "del fullData['tot_cur_bal']\n",
    "del fullData['open_acc_6m']\n",
    "del fullData['open_il_6m']\n",
    "del fullData['open_il_12m']\n",
    "del fullData['open_il_24m']\n",
    "del fullData['mths_since_rcnt_il']\n",
    "del fullData['total_bal_il']\n",
    "del fullData['il_util']\n",
    "del fullData['open_rv_12m']\n",
    "del fullData['open_rv_24m']\n",
    "del fullData['max_bal_bc']\n",
    "del fullData['all_util']\n",
    "del fullData['total_rev_hi_lim']\n",
    "del fullData['inq_fi']\n",
    "del fullData['total_cu_tl']\n",
    "del fullData['inq_last_12m']\n",
    "\n",
    "fullData['emp_length'].fillna(fullData['emp_length'].median(), inplace=True)\n",
    "fullData['annual_inc'].fillna(fullData['annual_inc'].median(), inplace=True)\n",
    "fullData['title'].fillna(fullData['title'].median(), inplace=True)\n",
    "fullData['pub_rec'].fillna(fullData['pub_rec'].median(), inplace=True)\n",
    "fullData['revol_util'].fillna(fullData['revol_util'].median(), inplace=True)\n",
    "fullData['total_acc'].fillna(fullData['total_acc'].median(), inplace=True)\n",
    "fullData['collections_12_mths_ex_med'].fillna(fullData['collections_12_mths_ex_med'].median(), inplace=True)"
   ]
  },
  {
   "cell_type": "code",
   "execution_count": 26,
   "metadata": {
    "collapsed": true
   },
   "outputs": [],
   "source": [
    "collAmtTrain = fullData.loc[fullData['tot_coll_amt'] >= 0]\n",
    "collAmtTest = fullData.copy()\n",
    "delCollAmtLocal = np.array(np.where(np.array(fullData['tot_coll_amt'] >= 0)))\n",
    "for i in delCollAmtLocal.tolist():\n",
    "    collAmtTest.drop(i, axis=0, inplace=True)\n",
    "collAmtTest = collAmtTest.reset_index()\n",
    "collAmtTrain = collAmtTrain.reset_index()\n",
    "\n",
    "collAmtTrainLabel = collAmtTrain['tot_coll_amt']\n",
    "del collAmtTrain['tot_coll_amt']\n",
    "\n",
    "collAmtTestLabel = collAmtTest['tot_coll_amt']\n",
    "del collAmtTest['tot_coll_amt']\n",
    "\n",
    "from sklearn.preprocessing import StandardScaler\n",
    "ss = StandardScaler()\n",
    "ss.fit(collAmtTrain)\n",
    "collAmtTrain_d = ss.transform(collAmtTrain)\n",
    "collAmtTest_d = ss.transform(collAmtTest)\n",
    "\n",
    "from sklearn import linear_model\n",
    "lin = linear_model.BayesianRidge()\n",
    "\n",
    "lin.fit(collAmtTrain_d, collAmtTrainLabel)\n",
    "\n",
    "trainData.loc[(trainData['tot_coll_amt'].isnull()), 'tot_coll_amt'] = lin.predict(collAmtTest_d)"
   ]
  },
  {
   "cell_type": "markdown",
   "metadata": {},
   "source": [
    "# 预测 tot_cur_bal"
   ]
  },
  {
   "cell_type": "code",
   "execution_count": 27,
   "metadata": {
    "collapsed": true
   },
   "outputs": [],
   "source": [
    "fullData = trainData.copy()\n",
    "del fullData['member_id']\n",
    "del fullData['open_acc_6m']\n",
    "del fullData['open_il_6m']\n",
    "del fullData['open_il_12m']\n",
    "del fullData['open_il_24m']\n",
    "del fullData['mths_since_rcnt_il']\n",
    "del fullData['total_bal_il']\n",
    "del fullData['il_util']\n",
    "del fullData['open_rv_12m']\n",
    "del fullData['open_rv_24m']\n",
    "del fullData['max_bal_bc']\n",
    "del fullData['all_util']\n",
    "del fullData['total_rev_hi_lim']\n",
    "del fullData['inq_fi']\n",
    "del fullData['total_cu_tl']\n",
    "del fullData['inq_last_12m']\n",
    "\n",
    "fullData['emp_length'].fillna(fullData['emp_length'].median(), inplace=True)\n",
    "fullData['annual_inc'].fillna(fullData['annual_inc'].median(), inplace=True)\n",
    "fullData['title'].fillna(fullData['title'].median(), inplace=True)\n",
    "fullData['pub_rec'].fillna(fullData['pub_rec'].median(), inplace=True)\n",
    "fullData['revol_util'].fillna(fullData['revol_util'].median(), inplace=True)\n",
    "fullData['total_acc'].fillna(fullData['total_acc'].median(), inplace=True)\n",
    "fullData['collections_12_mths_ex_med'].fillna(fullData['collections_12_mths_ex_med'].median(), inplace=True)"
   ]
  },
  {
   "cell_type": "code",
   "execution_count": 28,
   "metadata": {
    "collapsed": true
   },
   "outputs": [],
   "source": [
    "curBalTrain = fullData.loc[fullData['tot_cur_bal'] >= 0]\n",
    "curBalTest = fullData.copy()\n",
    "delCurBalLocal = np.array(np.where(np.array(fullData['tot_cur_bal'] >= 0)))\n",
    "for i in delCurBalLocal.tolist():\n",
    "    curBalTest.drop(i, axis=0, inplace=True)\n",
    "curBalTest = curBalTest.reset_index()\n",
    "curBalTrain = curBalTrain.reset_index()\n",
    "\n",
    "curBalTrainLabel = curBalTrain['tot_cur_bal']\n",
    "del curBalTrain['tot_cur_bal']\n",
    "\n",
    "curBalTestLabel = curBalTest['tot_cur_bal']\n",
    "del curBalTest['tot_cur_bal']\n",
    "\n",
    "from sklearn.preprocessing import StandardScaler\n",
    "ss = StandardScaler()\n",
    "ss.fit(curBalTrain)\n",
    "curBalTrain_d = ss.transform(curBalTrain)\n",
    "curBalTest_d = ss.transform(curBalTest)\n",
    "\n",
    "from sklearn import linear_model\n",
    "lin = linear_model.BayesianRidge()\n",
    "\n",
    "lin.fit(curBalTrain_d, curBalTrainLabel)\n",
    "\n",
    "trainData.loc[(trainData['tot_cur_bal'].isnull()), 'tot_cur_bal'] = lin.predict(curBalTest_d)"
   ]
  },
  {
   "cell_type": "markdown",
   "metadata": {},
   "source": [
    "# 预测 open_acc_6m"
   ]
  },
  {
   "cell_type": "code",
   "execution_count": 29,
   "metadata": {
    "collapsed": true
   },
   "outputs": [],
   "source": [
    "fullData = trainData.copy()\n",
    "del fullData['member_id']\n",
    "del fullData['open_il_6m']\n",
    "del fullData['open_il_12m']\n",
    "del fullData['open_il_24m']\n",
    "del fullData['mths_since_rcnt_il']\n",
    "del fullData['total_bal_il']\n",
    "del fullData['il_util']\n",
    "del fullData['open_rv_12m']\n",
    "del fullData['open_rv_24m']\n",
    "del fullData['max_bal_bc']\n",
    "del fullData['all_util']\n",
    "del fullData['total_rev_hi_lim']\n",
    "del fullData['inq_fi']\n",
    "del fullData['total_cu_tl']\n",
    "del fullData['inq_last_12m']\n",
    "\n",
    "fullData['emp_length'].fillna(fullData['emp_length'].median(), inplace=True)\n",
    "fullData['annual_inc'].fillna(fullData['annual_inc'].median(), inplace=True)\n",
    "fullData['title'].fillna(fullData['title'].median(), inplace=True)\n",
    "fullData['pub_rec'].fillna(fullData['pub_rec'].median(), inplace=True)\n",
    "fullData['revol_util'].fillna(fullData['revol_util'].median(), inplace=True)\n",
    "fullData['total_acc'].fillna(fullData['total_acc'].median(), inplace=True)\n",
    "fullData['collections_12_mths_ex_med'].fillna(fullData['collections_12_mths_ex_med'].median(), inplace=True)"
   ]
  },
  {
   "cell_type": "code",
   "execution_count": 30,
   "metadata": {
    "collapsed": true
   },
   "outputs": [],
   "source": [
    "acc6mTrain = fullData.loc[fullData['open_acc_6m'] >= 0]\n",
    "acc6mTest = fullData.copy()\n",
    "delAcc6mLocal = np.array(np.where(np.array(fullData['open_acc_6m'] >= 0)))\n",
    "for i in delAcc6mLocal.tolist():\n",
    "    acc6mTest.drop(i, axis=0, inplace=True)\n",
    "acc6mTest = acc6mTest.reset_index()\n",
    "acc6mTrain = acc6mTrain.reset_index()\n",
    "\n",
    "acc6mTrainLabel = acc6mTrain['open_acc_6m']\n",
    "del acc6mTrain['open_acc_6m']\n",
    "\n",
    "acc6mTestLabel = acc6mTest['open_acc_6m']\n",
    "del acc6mTest['open_acc_6m']\n",
    "\n",
    "from sklearn.preprocessing import StandardScaler\n",
    "ss = StandardScaler()\n",
    "ss.fit(acc6mTrain)\n",
    "acc6mTrain_d = ss.transform(acc6mTrain)\n",
    "acc6mTest_d = ss.transform(acc6mTest)\n",
    "\n",
    "from sklearn import linear_model\n",
    "lin = linear_model.BayesianRidge()\n",
    "\n",
    "lin.fit(acc6mTrain_d, acc6mTrainLabel)\n",
    "\n",
    "trainData.loc[(trainData['open_acc_6m'].isnull()), 'open_acc_6m'] = lin.predict(acc6mTest_d)"
   ]
  },
  {
   "cell_type": "markdown",
   "metadata": {},
   "source": [
    "# 预测 open_il_6m"
   ]
  },
  {
   "cell_type": "code",
   "execution_count": 31,
   "metadata": {
    "collapsed": true
   },
   "outputs": [],
   "source": [
    "fullData = trainData.copy()\n",
    "del fullData['member_id']\n",
    "del fullData['open_il_12m']\n",
    "del fullData['open_il_24m']\n",
    "del fullData['mths_since_rcnt_il']\n",
    "del fullData['total_bal_il']\n",
    "del fullData['il_util']\n",
    "del fullData['open_rv_12m']\n",
    "del fullData['open_rv_24m']\n",
    "del fullData['max_bal_bc']\n",
    "del fullData['all_util']\n",
    "del fullData['total_rev_hi_lim']\n",
    "del fullData['inq_fi']\n",
    "del fullData['total_cu_tl']\n",
    "del fullData['inq_last_12m']\n",
    "\n",
    "fullData['emp_length'].fillna(fullData['emp_length'].median(), inplace=True)\n",
    "fullData['annual_inc'].fillna(fullData['annual_inc'].median(), inplace=True)\n",
    "fullData['title'].fillna(fullData['title'].median(), inplace=True)\n",
    "fullData['pub_rec'].fillna(fullData['pub_rec'].median(), inplace=True)\n",
    "fullData['revol_util'].fillna(fullData['revol_util'].median(), inplace=True)\n",
    "fullData['total_acc'].fillna(fullData['total_acc'].median(), inplace=True)\n",
    "fullData['collections_12_mths_ex_med'].fillna(fullData['collections_12_mths_ex_med'].median(), inplace=True)"
   ]
  },
  {
   "cell_type": "code",
   "execution_count": 32,
   "metadata": {
    "collapsed": true
   },
   "outputs": [],
   "source": [
    "il6mTrain = fullData.loc[fullData['open_il_6m'] >= 0]\n",
    "il6mTest = fullData.copy()\n",
    "delIl6mLocal = np.array(np.where(np.array(fullData['open_il_6m'] >= 0)))\n",
    "for i in delIl6mLocal.tolist():\n",
    "    il6mTest.drop(i, axis=0, inplace=True)\n",
    "il6mTest = il6mTest.reset_index()\n",
    "il6mTrain = il6mTrain.reset_index()\n",
    "\n",
    "il6mTrainLabel = il6mTrain['open_il_6m']\n",
    "del il6mTrain['open_il_6m']\n",
    "\n",
    "il6mTestLabel = il6mTest['open_il_6m']\n",
    "del il6mTest['open_il_6m']\n",
    "\n",
    "from sklearn.preprocessing import StandardScaler\n",
    "ss = StandardScaler()\n",
    "ss.fit(il6mTrain)\n",
    "il6mTrain_d = ss.transform(il6mTrain)\n",
    "il6mTest_d = ss.transform(il6mTest)\n",
    "\n",
    "from sklearn import linear_model\n",
    "lin = linear_model.BayesianRidge()\n",
    "\n",
    "lin.fit(il6mTrain_d, il6mTrainLabel)\n",
    "\n",
    "trainData.loc[(trainData['open_il_6m'].isnull()), 'open_il_6m'] = lin.predict(il6mTest_d)"
   ]
  },
  {
   "cell_type": "markdown",
   "metadata": {},
   "source": [
    "# 预测 open_il_12m"
   ]
  },
  {
   "cell_type": "code",
   "execution_count": 33,
   "metadata": {
    "collapsed": true
   },
   "outputs": [],
   "source": [
    "fullData = trainData.copy()\n",
    "del fullData['member_id']\n",
    "del fullData['open_il_24m']\n",
    "del fullData['mths_since_rcnt_il']\n",
    "del fullData['total_bal_il']\n",
    "del fullData['il_util']\n",
    "del fullData['open_rv_12m']\n",
    "del fullData['open_rv_24m']\n",
    "del fullData['max_bal_bc']\n",
    "del fullData['all_util']\n",
    "del fullData['total_rev_hi_lim']\n",
    "del fullData['inq_fi']\n",
    "del fullData['total_cu_tl']\n",
    "del fullData['inq_last_12m']\n",
    "\n",
    "fullData['emp_length'].fillna(fullData['emp_length'].median(), inplace=True)\n",
    "fullData['annual_inc'].fillna(fullData['annual_inc'].median(), inplace=True)\n",
    "fullData['title'].fillna(fullData['title'].median(), inplace=True)\n",
    "fullData['pub_rec'].fillna(fullData['pub_rec'].median(), inplace=True)\n",
    "fullData['revol_util'].fillna(fullData['revol_util'].median(), inplace=True)\n",
    "fullData['total_acc'].fillna(fullData['total_acc'].median(), inplace=True)\n",
    "fullData['collections_12_mths_ex_med'].fillna(fullData['collections_12_mths_ex_med'].median(), inplace=True)"
   ]
  },
  {
   "cell_type": "code",
   "execution_count": 34,
   "metadata": {
    "collapsed": true
   },
   "outputs": [],
   "source": [
    "il12mTrain = fullData.loc[fullData['open_il_12m'] >= 0]\n",
    "il12mTest = fullData.copy()\n",
    "delIl12mLocal = np.array(np.where(np.array(fullData['open_il_12m'] >= 0)))\n",
    "for i in delIl12mLocal.tolist():\n",
    "    il12mTest.drop(i, axis=0, inplace=True)\n",
    "il12mTest = il12mTest.reset_index()\n",
    "il12mTrain = il12mTrain.reset_index()\n",
    "\n",
    "il12mTrainLabel = il12mTrain['open_il_12m']\n",
    "del il12mTrain['open_il_12m']\n",
    "\n",
    "il12mTestLabel = il12mTest['open_il_12m']\n",
    "del il12mTest['open_il_12m']\n",
    "\n",
    "from sklearn.preprocessing import StandardScaler\n",
    "ss = StandardScaler()\n",
    "ss.fit(il12mTrain)\n",
    "il12mTrain_d = ss.transform(il12mTrain)\n",
    "il12mTest_d = ss.transform(il12mTest)\n",
    "\n",
    "from sklearn import linear_model\n",
    "lin = linear_model.BayesianRidge()\n",
    "\n",
    "lin.fit(il12mTrain_d, il12mTrainLabel)\n",
    "\n",
    "trainData.loc[(trainData['open_il_12m'].isnull()), 'open_il_12m'] = lin.predict(il12mTest_d)"
   ]
  },
  {
   "cell_type": "markdown",
   "metadata": {},
   "source": [
    "# 预测 open_il_24m"
   ]
  },
  {
   "cell_type": "code",
   "execution_count": 35,
   "metadata": {
    "collapsed": true
   },
   "outputs": [],
   "source": [
    "fullData = trainData.copy()\n",
    "del fullData['member_id']\n",
    "del fullData['mths_since_rcnt_il']\n",
    "del fullData['total_bal_il']\n",
    "del fullData['il_util']\n",
    "del fullData['open_rv_12m']\n",
    "del fullData['open_rv_24m']\n",
    "del fullData['max_bal_bc']\n",
    "del fullData['all_util']\n",
    "del fullData['total_rev_hi_lim']\n",
    "del fullData['inq_fi']\n",
    "del fullData['total_cu_tl']\n",
    "del fullData['inq_last_12m']\n",
    "\n",
    "fullData['emp_length'].fillna(fullData['emp_length'].median(), inplace=True)\n",
    "fullData['annual_inc'].fillna(fullData['annual_inc'].median(), inplace=True)\n",
    "fullData['title'].fillna(fullData['title'].median(), inplace=True)\n",
    "fullData['pub_rec'].fillna(fullData['pub_rec'].median(), inplace=True)\n",
    "fullData['revol_util'].fillna(fullData['revol_util'].median(), inplace=True)\n",
    "fullData['total_acc'].fillna(fullData['total_acc'].median(), inplace=True)\n",
    "fullData['collections_12_mths_ex_med'].fillna(fullData['collections_12_mths_ex_med'].median(), inplace=True)"
   ]
  },
  {
   "cell_type": "code",
   "execution_count": 36,
   "metadata": {
    "collapsed": true
   },
   "outputs": [],
   "source": [
    "il24mTrain = fullData.loc[fullData['open_il_24m'] >= 0]\n",
    "il24mTest = fullData.copy()\n",
    "delIl24mLocal = np.array(np.where(np.array(fullData['open_il_24m'] >= 0)))\n",
    "for i in delIl24mLocal.tolist():\n",
    "    il24mTest.drop(i, axis=0, inplace=True)\n",
    "il24mTest = il24mTest.reset_index()\n",
    "il24mTrain = il24mTrain.reset_index()\n",
    "\n",
    "il24mTrainLabel = il24mTrain['open_il_24m']\n",
    "del il24mTrain['open_il_24m']\n",
    "\n",
    "il24mTestLabel = il24mTest['open_il_24m']\n",
    "del il24mTest['open_il_24m']\n",
    "\n",
    "from sklearn.preprocessing import StandardScaler\n",
    "ss = StandardScaler()\n",
    "ss.fit(il24mTrain)\n",
    "il24mTrain_d = ss.transform(il24mTrain)\n",
    "il24mTest_d = ss.transform(il24mTest)\n",
    "\n",
    "from sklearn import linear_model\n",
    "lin = linear_model.BayesianRidge()\n",
    "\n",
    "lin.fit(il24mTrain_d, il24mTrainLabel)\n",
    "\n",
    "trainData.loc[(trainData['open_il_24m'].isnull()), 'open_il_24m'] = lin.predict(il24mTest_d)"
   ]
  },
  {
   "cell_type": "markdown",
   "metadata": {},
   "source": [
    "# 预测 mths_since_rcnt_il"
   ]
  },
  {
   "cell_type": "code",
   "execution_count": 37,
   "metadata": {
    "collapsed": true
   },
   "outputs": [],
   "source": [
    "fullData = trainData.copy()\n",
    "del fullData['member_id']\n",
    "del fullData['total_bal_il']\n",
    "del fullData['il_util']\n",
    "del fullData['open_rv_12m']\n",
    "del fullData['open_rv_24m']\n",
    "del fullData['max_bal_bc']\n",
    "del fullData['all_util']\n",
    "del fullData['total_rev_hi_lim']\n",
    "del fullData['inq_fi']\n",
    "del fullData['total_cu_tl']\n",
    "del fullData['inq_last_12m']\n",
    "\n",
    "fullData['emp_length'].fillna(fullData['emp_length'].median(), inplace=True)\n",
    "fullData['annual_inc'].fillna(fullData['annual_inc'].median(), inplace=True)\n",
    "fullData['title'].fillna(fullData['title'].median(), inplace=True)\n",
    "fullData['pub_rec'].fillna(fullData['pub_rec'].median(), inplace=True)\n",
    "fullData['revol_util'].fillna(fullData['revol_util'].median(), inplace=True)\n",
    "fullData['total_acc'].fillna(fullData['total_acc'].median(), inplace=True)\n",
    "fullData['collections_12_mths_ex_med'].fillna(fullData['collections_12_mths_ex_med'].median(), inplace=True)"
   ]
  },
  {
   "cell_type": "code",
   "execution_count": 38,
   "metadata": {
    "collapsed": true
   },
   "outputs": [],
   "source": [
    "rcntTrain = fullData.loc[fullData['mths_since_rcnt_il'] >= 0]\n",
    "rcntTest = fullData.copy()\n",
    "delRcntLocal = np.array(np.where(np.array(fullData['mths_since_rcnt_il'] >= 0)))\n",
    "for i in delRcntLocal.tolist():\n",
    "    rcntTest.drop(i, axis=0, inplace=True)\n",
    "rcntTest = rcntTest.reset_index()\n",
    "rcntTrain = rcntTrain.reset_index()\n",
    "\n",
    "rcntTrainLabel = rcntTrain['mths_since_rcnt_il']\n",
    "del rcntTrain['mths_since_rcnt_il']\n",
    "\n",
    "rcntTestLabel = rcntTest['mths_since_rcnt_il']\n",
    "del rcntTest['mths_since_rcnt_il']\n",
    "\n",
    "from sklearn.preprocessing import StandardScaler\n",
    "ss = StandardScaler()\n",
    "ss.fit(rcntTrain)\n",
    "rcntTrain_d = ss.transform(rcntTrain)\n",
    "rcntTest_d = ss.transform(rcntTest)\n",
    "\n",
    "from sklearn import linear_model\n",
    "lin = linear_model.BayesianRidge()\n",
    "\n",
    "lin.fit(rcntTrain_d, rcntTrainLabel)\n",
    "\n",
    "trainData.loc[(trainData['mths_since_rcnt_il'].isnull()), 'mths_since_rcnt_il'] = lin.predict(rcntTest_d)"
   ]
  },
  {
   "cell_type": "markdown",
   "metadata": {
    "collapsed": true
   },
   "source": [
    "# 预测 total_bal_il"
   ]
  },
  {
   "cell_type": "code",
   "execution_count": 39,
   "metadata": {
    "collapsed": true
   },
   "outputs": [],
   "source": [
    "fullData = trainData.copy()\n",
    "del fullData['member_id']\n",
    "del fullData['il_util']\n",
    "del fullData['open_rv_12m']\n",
    "del fullData['open_rv_24m']\n",
    "del fullData['max_bal_bc']\n",
    "del fullData['all_util']\n",
    "del fullData['total_rev_hi_lim']\n",
    "del fullData['inq_fi']\n",
    "del fullData['total_cu_tl']\n",
    "del fullData['inq_last_12m']\n",
    "\n",
    "fullData['emp_length'].fillna(fullData['emp_length'].median(), inplace=True)\n",
    "fullData['annual_inc'].fillna(fullData['annual_inc'].median(), inplace=True)\n",
    "fullData['title'].fillna(fullData['title'].median(), inplace=True)\n",
    "fullData['pub_rec'].fillna(fullData['pub_rec'].median(), inplace=True)\n",
    "fullData['revol_util'].fillna(fullData['revol_util'].median(), inplace=True)\n",
    "fullData['total_acc'].fillna(fullData['total_acc'].median(), inplace=True)\n",
    "fullData['collections_12_mths_ex_med'].fillna(fullData['collections_12_mths_ex_med'].median(), inplace=True)"
   ]
  },
  {
   "cell_type": "code",
   "execution_count": 40,
   "metadata": {
    "collapsed": true
   },
   "outputs": [],
   "source": [
    "balTrain = fullData.loc[fullData['total_bal_il'] >= 0]\n",
    "belTest = fullData.copy()\n",
    "delBalLocal = np.array(np.where(np.array(fullData['total_bal_il'] >= 0)))\n",
    "for i in delBalLocal.tolist():\n",
    "    belTest.drop(i, axis=0, inplace=True)\n",
    "belTest = belTest.reset_index()\n",
    "balTrain = balTrain.reset_index()\n",
    "\n",
    "balTrainLabel = balTrain['total_bal_il']\n",
    "del balTrain['total_bal_il']\n",
    "\n",
    "belTestLabel = belTest['total_bal_il']\n",
    "del belTest['total_bal_il']\n",
    "\n",
    "from sklearn.preprocessing import StandardScaler\n",
    "ss = StandardScaler()\n",
    "ss.fit(balTrain)\n",
    "balTrain_d = ss.transform(balTrain)\n",
    "belTest_d = ss.transform(belTest)\n",
    "\n",
    "from sklearn import linear_model\n",
    "lin = linear_model.BayesianRidge()\n",
    "\n",
    "lin.fit(balTrain_d, balTrainLabel)\n",
    "\n",
    "trainData.loc[(trainData['total_bal_il'].isnull()), 'total_bal_il'] = lin.predict(belTest_d)"
   ]
  },
  {
   "cell_type": "markdown",
   "metadata": {},
   "source": [
    "# 预测 il_util"
   ]
  },
  {
   "cell_type": "code",
   "execution_count": 41,
   "metadata": {
    "collapsed": true
   },
   "outputs": [],
   "source": [
    "fullData = trainData.copy()\n",
    "del fullData['member_id']\n",
    "del fullData['open_rv_12m']\n",
    "del fullData['open_rv_24m']\n",
    "del fullData['max_bal_bc']\n",
    "del fullData['all_util']\n",
    "del fullData['total_rev_hi_lim']\n",
    "del fullData['inq_fi']\n",
    "del fullData['total_cu_tl']\n",
    "del fullData['inq_last_12m']\n",
    "\n",
    "fullData['emp_length'].fillna(fullData['emp_length'].median(), inplace=True)\n",
    "fullData['annual_inc'].fillna(fullData['annual_inc'].median(), inplace=True)\n",
    "fullData['title'].fillna(fullData['title'].median(), inplace=True)\n",
    "fullData['pub_rec'].fillna(fullData['pub_rec'].median(), inplace=True)\n",
    "fullData['revol_util'].fillna(fullData['revol_util'].median(), inplace=True)\n",
    "fullData['total_acc'].fillna(fullData['total_acc'].median(), inplace=True)\n",
    "fullData['collections_12_mths_ex_med'].fillna(fullData['collections_12_mths_ex_med'].median(), inplace=True)"
   ]
  },
  {
   "cell_type": "code",
   "execution_count": 42,
   "metadata": {
    "collapsed": true
   },
   "outputs": [],
   "source": [
    "utilTrain = fullData.loc[fullData['il_util'] >= 0]\n",
    "utilTest = fullData.copy()\n",
    "delUtilLocal = np.array(np.where(np.array(fullData['il_util'] >= 0)))\n",
    "for i in delUtilLocal.tolist():\n",
    "    utilTest.drop(i, axis=0, inplace=True)\n",
    "utilTest = utilTest.reset_index()\n",
    "utilTrain = utilTrain.reset_index()\n",
    "\n",
    "utilTrainLabel = utilTrain['il_util']\n",
    "del utilTrain['il_util']\n",
    "\n",
    "utilTestLabel = utilTest['il_util']\n",
    "del utilTest['il_util']\n",
    "\n",
    "from sklearn.preprocessing import StandardScaler\n",
    "ss = StandardScaler()\n",
    "ss.fit(utilTrain)\n",
    "utilTrain_d = ss.transform(utilTrain)\n",
    "utilTest_d = ss.transform(utilTest)\n",
    "\n",
    "from sklearn import linear_model\n",
    "lin = linear_model.BayesianRidge()\n",
    "\n",
    "lin.fit(utilTrain_d, utilTrainLabel)\n",
    "\n",
    "trainData.loc[(trainData['il_util'].isnull()), 'il_util'] = lin.predict(utilTest_d)"
   ]
  },
  {
   "cell_type": "markdown",
   "metadata": {},
   "source": [
    "# 预测 open_rv_12m"
   ]
  },
  {
   "cell_type": "code",
   "execution_count": 43,
   "metadata": {
    "collapsed": true
   },
   "outputs": [],
   "source": [
    "fullData = trainData.copy()\n",
    "del fullData['member_id']\n",
    "del fullData['open_rv_24m']\n",
    "del fullData['max_bal_bc']\n",
    "del fullData['all_util']\n",
    "del fullData['total_rev_hi_lim']\n",
    "del fullData['inq_fi']\n",
    "del fullData['total_cu_tl']\n",
    "del fullData['inq_last_12m']\n",
    "\n",
    "fullData['emp_length'].fillna(fullData['emp_length'].median(), inplace=True)\n",
    "fullData['annual_inc'].fillna(fullData['annual_inc'].median(), inplace=True)\n",
    "fullData['title'].fillna(fullData['title'].median(), inplace=True)\n",
    "fullData['pub_rec'].fillna(fullData['pub_rec'].median(), inplace=True)\n",
    "fullData['revol_util'].fillna(fullData['revol_util'].median(), inplace=True)\n",
    "fullData['total_acc'].fillna(fullData['total_acc'].median(), inplace=True)\n",
    "fullData['collections_12_mths_ex_med'].fillna(fullData['collections_12_mths_ex_med'].median(), inplace=True)"
   ]
  },
  {
   "cell_type": "code",
   "execution_count": 44,
   "metadata": {
    "collapsed": true
   },
   "outputs": [],
   "source": [
    "rv12mTrain = fullData.loc[fullData['open_rv_12m'] >= 0]\n",
    "rv12mTest = fullData.copy()\n",
    "delRv12mLocal = np.array(np.where(np.array(fullData['open_rv_12m'] >= 0)))\n",
    "for i in delRv12mLocal.tolist():\n",
    "    rv12mTest.drop(i, axis=0, inplace=True)\n",
    "rv12mTest = rv12mTest.reset_index()\n",
    "rv12mTrain = rv12mTrain.reset_index()\n",
    "\n",
    "rv12mTrainLabel = rv12mTrain['open_rv_12m']\n",
    "del rv12mTrain['open_rv_12m']\n",
    "\n",
    "rv12mTestLabel = rv12mTest['open_rv_12m']\n",
    "del rv12mTest['open_rv_12m']\n",
    "\n",
    "from sklearn.preprocessing import StandardScaler\n",
    "ss = StandardScaler()\n",
    "ss.fit(rv12mTrain)\n",
    "rv12mTrain_d = ss.transform(rv12mTrain)\n",
    "rv12mTest_d = ss.transform(rv12mTest)\n",
    "\n",
    "from sklearn import linear_model\n",
    "lin = linear_model.BayesianRidge()\n",
    "\n",
    "lin.fit(rv12mTrain_d, rv12mTrainLabel)\n",
    "\n",
    "trainData.loc[(trainData['open_rv_12m'].isnull()), 'open_rv_12m'] = lin.predict(rv12mTest_d)"
   ]
  },
  {
   "cell_type": "markdown",
   "metadata": {},
   "source": [
    "# 预测 open_rv_24m"
   ]
  },
  {
   "cell_type": "code",
   "execution_count": 45,
   "metadata": {
    "collapsed": true
   },
   "outputs": [],
   "source": [
    "fullData = trainData.copy()\n",
    "del fullData['member_id']\n",
    "del fullData['max_bal_bc']\n",
    "del fullData['all_util']\n",
    "del fullData['total_rev_hi_lim']\n",
    "del fullData['inq_fi']\n",
    "del fullData['total_cu_tl']\n",
    "del fullData['inq_last_12m']\n",
    "\n",
    "fullData['emp_length'].fillna(fullData['emp_length'].median(), inplace=True)\n",
    "fullData['annual_inc'].fillna(fullData['annual_inc'].median(), inplace=True)\n",
    "fullData['title'].fillna(fullData['title'].median(), inplace=True)\n",
    "fullData['pub_rec'].fillna(fullData['pub_rec'].median(), inplace=True)\n",
    "fullData['revol_util'].fillna(fullData['revol_util'].median(), inplace=True)\n",
    "fullData['total_acc'].fillna(fullData['total_acc'].median(), inplace=True)\n",
    "fullData['collections_12_mths_ex_med'].fillna(fullData['collections_12_mths_ex_med'].median(), inplace=True)"
   ]
  },
  {
   "cell_type": "code",
   "execution_count": 46,
   "metadata": {
    "collapsed": true
   },
   "outputs": [],
   "source": [
    "rv24mTrain = fullData.loc[fullData['open_rv_24m'] >= 0]\n",
    "rv24mTest = fullData.copy()\n",
    "delRv24mLocal = np.array(np.where(np.array(fullData['open_rv_24m'] >= 0)))\n",
    "for i in delRv24mLocal.tolist():\n",
    "    rv24mTest.drop(i, axis=0, inplace=True)\n",
    "rv24mTest = rv24mTest.reset_index()\n",
    "rv24mTrain = rv24mTrain.reset_index()\n",
    "\n",
    "rv24mTrainLabel = rv24mTrain['open_rv_24m']\n",
    "del rv24mTrain['open_rv_24m']\n",
    "\n",
    "rv24mTestLabel = rv24mTest['open_rv_24m']\n",
    "del rv24mTest['open_rv_24m']\n",
    "\n",
    "from sklearn.preprocessing import StandardScaler\n",
    "ss = StandardScaler()\n",
    "ss.fit(rv24mTrain)\n",
    "rv24mTrain_d = ss.transform(rv24mTrain)\n",
    "rv24mTest_d = ss.transform(rv24mTest)\n",
    "\n",
    "from sklearn import linear_model\n",
    "lin = linear_model.BayesianRidge()\n",
    "\n",
    "lin.fit(rv24mTrain_d, rv24mTrainLabel)\n",
    "\n",
    "trainData.loc[(trainData['open_rv_24m'].isnull()), 'open_rv_24m'] = lin.predict(rv24mTest_d)"
   ]
  },
  {
   "cell_type": "markdown",
   "metadata": {},
   "source": [
    "# 预测 max_bal_bc"
   ]
  },
  {
   "cell_type": "code",
   "execution_count": 47,
   "metadata": {
    "collapsed": true
   },
   "outputs": [],
   "source": [
    "fullData = trainData.copy()\n",
    "del fullData['member_id']\n",
    "del fullData['all_util']\n",
    "del fullData['total_rev_hi_lim']\n",
    "del fullData['inq_fi']\n",
    "del fullData['total_cu_tl']\n",
    "del fullData['inq_last_12m']\n",
    "\n",
    "fullData['emp_length'].fillna(fullData['emp_length'].median(), inplace=True)\n",
    "fullData['annual_inc'].fillna(fullData['annual_inc'].median(), inplace=True)\n",
    "fullData['title'].fillna(fullData['title'].median(), inplace=True)\n",
    "fullData['pub_rec'].fillna(fullData['pub_rec'].median(), inplace=True)\n",
    "fullData['revol_util'].fillna(fullData['revol_util'].median(), inplace=True)\n",
    "fullData['total_acc'].fillna(fullData['total_acc'].median(), inplace=True)\n",
    "fullData['collections_12_mths_ex_med'].fillna(fullData['collections_12_mths_ex_med'].median(), inplace=True)"
   ]
  },
  {
   "cell_type": "code",
   "execution_count": 48,
   "metadata": {
    "collapsed": true
   },
   "outputs": [],
   "source": [
    "bcTrain = fullData.loc[fullData['max_bal_bc'] >= 0]\n",
    "bcTest = fullData.copy()\n",
    "delBcLocal = np.array(np.where(np.array(fullData['max_bal_bc'] >= 0)))\n",
    "for i in delBcLocal.tolist():\n",
    "    bcTest.drop(i, axis=0, inplace=True)\n",
    "bcTest = bcTest.reset_index()\n",
    "bcTrain = bcTrain.reset_index()\n",
    "\n",
    "bcTrainLabel = bcTrain['max_bal_bc']\n",
    "del bcTrain['max_bal_bc']\n",
    "\n",
    "bcTestLabel = bcTest['max_bal_bc']\n",
    "del bcTest['max_bal_bc']\n",
    "\n",
    "from sklearn.preprocessing import StandardScaler\n",
    "ss = StandardScaler()\n",
    "ss.fit(bcTrain)\n",
    "bcTrain_d = ss.transform(bcTrain)\n",
    "bcTest_d = ss.transform(bcTest)\n",
    "\n",
    "from sklearn import linear_model\n",
    "lin = linear_model.BayesianRidge()\n",
    "\n",
    "lin.fit(bcTrain_d, bcTrainLabel)\n",
    "\n",
    "trainData.loc[(trainData['max_bal_bc'].isnull()), 'max_bal_bc'] = lin.predict(bcTest_d)"
   ]
  },
  {
   "cell_type": "markdown",
   "metadata": {},
   "source": [
    "# 预测 all_util"
   ]
  },
  {
   "cell_type": "code",
   "execution_count": 49,
   "metadata": {
    "collapsed": true
   },
   "outputs": [],
   "source": [
    "fullData = trainData.copy()\n",
    "del fullData['member_id']\n",
    "del fullData['total_rev_hi_lim']\n",
    "del fullData['inq_fi']\n",
    "del fullData['total_cu_tl']\n",
    "del fullData['inq_last_12m']\n",
    "\n",
    "fullData['emp_length'].fillna(fullData['emp_length'].median(), inplace=True)\n",
    "fullData['annual_inc'].fillna(fullData['annual_inc'].median(), inplace=True)\n",
    "fullData['title'].fillna(fullData['title'].median(), inplace=True)\n",
    "fullData['pub_rec'].fillna(fullData['pub_rec'].median(), inplace=True)\n",
    "fullData['revol_util'].fillna(fullData['revol_util'].median(), inplace=True)\n",
    "fullData['total_acc'].fillna(fullData['total_acc'].median(), inplace=True)\n",
    "fullData['collections_12_mths_ex_med'].fillna(fullData['collections_12_mths_ex_med'].median(), inplace=True)"
   ]
  },
  {
   "cell_type": "code",
   "execution_count": 50,
   "metadata": {
    "collapsed": true
   },
   "outputs": [],
   "source": [
    "allUtillTrain = fullData.loc[fullData['all_util'] >= 0]\n",
    "allUtillTest = fullData.copy()\n",
    "delAllUtillLocal = np.array(np.where(np.array(fullData['all_util'] >= 0)))\n",
    "for i in delAllUtillLocal.tolist():\n",
    "    allUtillTest.drop(i, axis=0, inplace=True)\n",
    "allUtillTest = allUtillTest.reset_index()\n",
    "allUtillTrain = allUtillTrain.reset_index()\n",
    "\n",
    "allUtillTrainLabel = allUtillTrain['all_util']\n",
    "del allUtillTrain['all_util']\n",
    "\n",
    "allUtillTestLabel = allUtillTest['all_util']\n",
    "del allUtillTest['all_util']\n",
    "\n",
    "from sklearn.preprocessing import StandardScaler\n",
    "ss = StandardScaler()\n",
    "ss.fit(allUtillTrain)\n",
    "allUtillTrain_d = ss.transform(allUtillTrain)\n",
    "allUtillTest_d = ss.transform(allUtillTest)\n",
    "\n",
    "from sklearn import linear_model\n",
    "lin = linear_model.BayesianRidge()\n",
    "\n",
    "lin.fit(allUtillTrain_d, allUtillTrainLabel)\n",
    "\n",
    "trainData.loc[(trainData['all_util'].isnull()), 'all_util'] = lin.predict(allUtillTest_d)"
   ]
  },
  {
   "cell_type": "markdown",
   "metadata": {},
   "source": [
    "# 预测 total_rev_hi_lim"
   ]
  },
  {
   "cell_type": "code",
   "execution_count": 51,
   "metadata": {
    "collapsed": true
   },
   "outputs": [],
   "source": [
    "fullData = trainData.copy()\n",
    "del fullData['member_id']\n",
    "del fullData['inq_fi']\n",
    "del fullData['total_cu_tl']\n",
    "del fullData['inq_last_12m']\n",
    "\n",
    "fullData['emp_length'].fillna(fullData['emp_length'].median(), inplace=True)\n",
    "fullData['annual_inc'].fillna(fullData['annual_inc'].median(), inplace=True)\n",
    "fullData['title'].fillna(fullData['title'].median(), inplace=True)\n",
    "fullData['pub_rec'].fillna(fullData['pub_rec'].median(), inplace=True)\n",
    "fullData['revol_util'].fillna(fullData['revol_util'].median(), inplace=True)\n",
    "fullData['total_acc'].fillna(fullData['total_acc'].median(), inplace=True)\n",
    "fullData['collections_12_mths_ex_med'].fillna(fullData['collections_12_mths_ex_med'].median(), inplace=True)"
   ]
  },
  {
   "cell_type": "code",
   "execution_count": 52,
   "metadata": {
    "collapsed": true
   },
   "outputs": [],
   "source": [
    "hiTrain = fullData.loc[fullData['total_rev_hi_lim'] >= 0]\n",
    "hiTest = fullData.copy()\n",
    "delHiLocal = np.array(np.where(np.array(fullData['total_rev_hi_lim'] >= 0)))\n",
    "for i in delHiLocal.tolist():\n",
    "    hiTest.drop(i, axis=0, inplace=True)\n",
    "hiTest = hiTest.reset_index()\n",
    "hiTrain = hiTrain.reset_index()\n",
    "\n",
    "hiTrainLabel = hiTrain['total_rev_hi_lim']\n",
    "del hiTrain['total_rev_hi_lim']\n",
    "\n",
    "hiTestLabel = hiTest['total_rev_hi_lim']\n",
    "del hiTest['total_rev_hi_lim']\n",
    "\n",
    "from sklearn.preprocessing import StandardScaler\n",
    "ss = StandardScaler()\n",
    "ss.fit(hiTrain)\n",
    "hiTrain_d = ss.transform(hiTrain)\n",
    "hiTest_d = ss.transform(hiTest)\n",
    "\n",
    "from sklearn import linear_model\n",
    "lin = linear_model.BayesianRidge()\n",
    "\n",
    "lin.fit(hiTrain_d, hiTrainLabel)\n",
    "\n",
    "trainData.loc[(trainData['total_rev_hi_lim'].isnull()), 'total_rev_hi_lim'] = lin.predict(hiTest_d)"
   ]
  },
  {
   "cell_type": "markdown",
   "metadata": {},
   "source": [
    "# 预测 inq_fi"
   ]
  },
  {
   "cell_type": "code",
   "execution_count": 53,
   "metadata": {
    "collapsed": true
   },
   "outputs": [],
   "source": [
    "fullData = trainData.copy()\n",
    "del fullData['member_id']\n",
    "del fullData['total_cu_tl']\n",
    "del fullData['inq_last_12m']\n",
    "\n",
    "fullData['emp_length'].fillna(fullData['emp_length'].median(), inplace=True)\n",
    "fullData['annual_inc'].fillna(fullData['annual_inc'].median(), inplace=True)\n",
    "fullData['title'].fillna(fullData['title'].median(), inplace=True)\n",
    "fullData['pub_rec'].fillna(fullData['pub_rec'].median(), inplace=True)\n",
    "fullData['revol_util'].fillna(fullData['revol_util'].median(), inplace=True)\n",
    "fullData['total_acc'].fillna(fullData['total_acc'].median(), inplace=True)\n",
    "fullData['collections_12_mths_ex_med'].fillna(fullData['collections_12_mths_ex_med'].median(), inplace=True)"
   ]
  },
  {
   "cell_type": "code",
   "execution_count": 54,
   "metadata": {
    "collapsed": true
   },
   "outputs": [],
   "source": [
    "fiTrain = fullData.loc[fullData['inq_fi'] >= 0]\n",
    "fiTest = fullData.copy()\n",
    "delFiLocal = np.array(np.where(np.array(fullData['inq_fi'] >= 0)))\n",
    "for i in delFiLocal.tolist():\n",
    "    fiTest.drop(i, axis=0, inplace=True)\n",
    "fiTest = fiTest.reset_index()\n",
    "fiTrain = fiTrain.reset_index()\n",
    "\n",
    "fiTrainLabel = fiTrain['inq_fi']\n",
    "del fiTrain['inq_fi']\n",
    "\n",
    "fiTestLabel = fiTest['inq_fi']\n",
    "del fiTest['inq_fi']\n",
    "\n",
    "from sklearn.preprocessing import StandardScaler\n",
    "ss = StandardScaler()\n",
    "ss.fit(fiTrain)\n",
    "fiTrain_d = ss.transform(fiTrain)\n",
    "fiTest_d = ss.transform(fiTest)\n",
    "\n",
    "from sklearn import linear_model\n",
    "lin = linear_model.BayesianRidge()\n",
    "\n",
    "lin.fit(fiTrain_d, fiTrainLabel)\n",
    "\n",
    "trainData.loc[(trainData['inq_fi'].isnull()), 'inq_fi'] = lin.predict(fiTest_d)"
   ]
  },
  {
   "cell_type": "markdown",
   "metadata": {},
   "source": [
    "# 预测 total_cu_tl"
   ]
  },
  {
   "cell_type": "code",
   "execution_count": 55,
   "metadata": {},
   "outputs": [
    {
     "ename": "MemoryError",
     "evalue": "",
     "output_type": "error",
     "traceback": [
      "\u001b[0;31m---------------------------------------------------------------------------\u001b[0m",
      "\u001b[0;31mMemoryError\u001b[0m                               Traceback (most recent call last)",
      "\u001b[0;32m<ipython-input-55-125c8e797c20>\u001b[0m in \u001b[0;36m<module>\u001b[0;34m()\u001b[0m\n\u001b[1;32m      1\u001b[0m \u001b[0mfullData\u001b[0m \u001b[0;34m=\u001b[0m \u001b[0mtrainData\u001b[0m\u001b[0;34m.\u001b[0m\u001b[0mcopy\u001b[0m\u001b[0;34m(\u001b[0m\u001b[0;34m)\u001b[0m\u001b[0;34m\u001b[0m\u001b[0m\n\u001b[1;32m      2\u001b[0m \u001b[0;32mdel\u001b[0m \u001b[0mfullData\u001b[0m\u001b[0;34m[\u001b[0m\u001b[0;34m'member_id'\u001b[0m\u001b[0;34m]\u001b[0m\u001b[0;34m\u001b[0m\u001b[0m\n\u001b[0;32m----> 3\u001b[0;31m \u001b[0;32mdel\u001b[0m \u001b[0mfullData\u001b[0m\u001b[0;34m[\u001b[0m\u001b[0;34m'inq_last_12m'\u001b[0m\u001b[0;34m]\u001b[0m\u001b[0;34m\u001b[0m\u001b[0m\n\u001b[0m\u001b[1;32m      4\u001b[0m \u001b[0;34m\u001b[0m\u001b[0m\n\u001b[1;32m      5\u001b[0m \u001b[0mfullData\u001b[0m\u001b[0;34m[\u001b[0m\u001b[0;34m'emp_length'\u001b[0m\u001b[0;34m]\u001b[0m\u001b[0;34m.\u001b[0m\u001b[0mfillna\u001b[0m\u001b[0;34m(\u001b[0m\u001b[0mfullData\u001b[0m\u001b[0;34m[\u001b[0m\u001b[0;34m'emp_length'\u001b[0m\u001b[0;34m]\u001b[0m\u001b[0;34m.\u001b[0m\u001b[0mmedian\u001b[0m\u001b[0;34m(\u001b[0m\u001b[0;34m)\u001b[0m\u001b[0;34m,\u001b[0m \u001b[0minplace\u001b[0m\u001b[0;34m=\u001b[0m\u001b[0;32mTrue\u001b[0m\u001b[0;34m)\u001b[0m\u001b[0;34m\u001b[0m\u001b[0m\n",
      "\u001b[0;32m~/anaconda3/envs/tensorflow/lib/python3.5/site-packages/pandas/core/generic.py\u001b[0m in \u001b[0;36m__delitem__\u001b[0;34m(self, key)\u001b[0m\n\u001b[1;32m   2094\u001b[0m             \u001b[0;31m# there was no match, this call should raise the appropriate\u001b[0m\u001b[0;34m\u001b[0m\u001b[0;34m\u001b[0m\u001b[0m\n\u001b[1;32m   2095\u001b[0m             \u001b[0;31m# exception:\u001b[0m\u001b[0;34m\u001b[0m\u001b[0;34m\u001b[0m\u001b[0m\n\u001b[0;32m-> 2096\u001b[0;31m             \u001b[0mself\u001b[0m\u001b[0;34m.\u001b[0m\u001b[0m_data\u001b[0m\u001b[0;34m.\u001b[0m\u001b[0mdelete\u001b[0m\u001b[0;34m(\u001b[0m\u001b[0mkey\u001b[0m\u001b[0;34m)\u001b[0m\u001b[0;34m\u001b[0m\u001b[0m\n\u001b[0m\u001b[1;32m   2097\u001b[0m \u001b[0;34m\u001b[0m\u001b[0m\n\u001b[1;32m   2098\u001b[0m         \u001b[0;31m# delete from the caches\u001b[0m\u001b[0;34m\u001b[0m\u001b[0;34m\u001b[0m\u001b[0m\n",
      "\u001b[0;32m~/anaconda3/envs/tensorflow/lib/python3.5/site-packages/pandas/core/internals.py\u001b[0m in \u001b[0;36mdelete\u001b[0;34m(self, item)\u001b[0m\n\u001b[1;32m   3922\u001b[0m                 \u001b[0;32mcontinue\u001b[0m\u001b[0;34m\u001b[0m\u001b[0m\n\u001b[1;32m   3923\u001b[0m             \u001b[0;32melif\u001b[0m \u001b[0mlen\u001b[0m\u001b[0;34m(\u001b[0m\u001b[0mblk_del\u001b[0m\u001b[0;34m)\u001b[0m \u001b[0;34m!=\u001b[0m \u001b[0;36m0\u001b[0m\u001b[0;34m:\u001b[0m\u001b[0;34m\u001b[0m\u001b[0m\n\u001b[0;32m-> 3924\u001b[0;31m                 \u001b[0mblk\u001b[0m\u001b[0;34m.\u001b[0m\u001b[0mdelete\u001b[0m\u001b[0;34m(\u001b[0m\u001b[0mblk_del\u001b[0m\u001b[0;34m)\u001b[0m\u001b[0;34m\u001b[0m\u001b[0m\n\u001b[0m\u001b[1;32m   3925\u001b[0m                 \u001b[0mbml\u001b[0m \u001b[0;34m=\u001b[0m \u001b[0mblk\u001b[0m\u001b[0;34m.\u001b[0m\u001b[0mmgr_locs\u001b[0m\u001b[0;34m\u001b[0m\u001b[0m\n\u001b[1;32m   3926\u001b[0m \u001b[0;34m\u001b[0m\u001b[0m\n",
      "\u001b[0;32m~/anaconda3/envs/tensorflow/lib/python3.5/site-packages/pandas/core/internals.py\u001b[0m in \u001b[0;36mdelete\u001b[0;34m(self, loc)\u001b[0m\n\u001b[1;32m    356\u001b[0m         \u001b[0mDelete\u001b[0m \u001b[0mgiven\u001b[0m \u001b[0mloc\u001b[0m\u001b[0;34m(\u001b[0m\u001b[0;34m-\u001b[0m\u001b[0ms\u001b[0m\u001b[0;34m)\u001b[0m \u001b[0;32mfrom\u001b[0m \u001b[0mblock\u001b[0m \u001b[0;32min\u001b[0m\u001b[0;34m-\u001b[0m\u001b[0mplace\u001b[0m\u001b[0;34m.\u001b[0m\u001b[0;34m\u001b[0m\u001b[0m\n\u001b[1;32m    357\u001b[0m         \"\"\"\n\u001b[0;32m--> 358\u001b[0;31m         \u001b[0mself\u001b[0m\u001b[0;34m.\u001b[0m\u001b[0mvalues\u001b[0m \u001b[0;34m=\u001b[0m \u001b[0mnp\u001b[0m\u001b[0;34m.\u001b[0m\u001b[0mdelete\u001b[0m\u001b[0;34m(\u001b[0m\u001b[0mself\u001b[0m\u001b[0;34m.\u001b[0m\u001b[0mvalues\u001b[0m\u001b[0;34m,\u001b[0m \u001b[0mloc\u001b[0m\u001b[0;34m,\u001b[0m \u001b[0;36m0\u001b[0m\u001b[0;34m)\u001b[0m\u001b[0;34m\u001b[0m\u001b[0m\n\u001b[0m\u001b[1;32m    359\u001b[0m         \u001b[0mself\u001b[0m\u001b[0;34m.\u001b[0m\u001b[0mmgr_locs\u001b[0m \u001b[0;34m=\u001b[0m \u001b[0mself\u001b[0m\u001b[0;34m.\u001b[0m\u001b[0mmgr_locs\u001b[0m\u001b[0;34m.\u001b[0m\u001b[0mdelete\u001b[0m\u001b[0;34m(\u001b[0m\u001b[0mloc\u001b[0m\u001b[0;34m)\u001b[0m\u001b[0;34m\u001b[0m\u001b[0m\n\u001b[1;32m    360\u001b[0m \u001b[0;34m\u001b[0m\u001b[0m\n",
      "\u001b[0;32m~/anaconda3/envs/tensorflow/lib/python3.5/site-packages/numpy/lib/function_base.py\u001b[0m in \u001b[0;36mdelete\u001b[0;34m(arr, obj, axis)\u001b[0m\n\u001b[1;32m   4879\u001b[0m         \u001b[0mkeep\u001b[0m\u001b[0;34m[\u001b[0m\u001b[0mobj\u001b[0m\u001b[0;34m,\u001b[0m \u001b[0;34m]\u001b[0m \u001b[0;34m=\u001b[0m \u001b[0;32mFalse\u001b[0m\u001b[0;34m\u001b[0m\u001b[0m\n\u001b[1;32m   4880\u001b[0m         \u001b[0mslobj\u001b[0m\u001b[0;34m[\u001b[0m\u001b[0maxis\u001b[0m\u001b[0;34m]\u001b[0m \u001b[0;34m=\u001b[0m \u001b[0mkeep\u001b[0m\u001b[0;34m\u001b[0m\u001b[0m\n\u001b[0;32m-> 4881\u001b[0;31m         \u001b[0mnew\u001b[0m \u001b[0;34m=\u001b[0m \u001b[0marr\u001b[0m\u001b[0;34m[\u001b[0m\u001b[0mslobj\u001b[0m\u001b[0;34m]\u001b[0m\u001b[0;34m\u001b[0m\u001b[0m\n\u001b[0m\u001b[1;32m   4882\u001b[0m \u001b[0;34m\u001b[0m\u001b[0m\n\u001b[1;32m   4883\u001b[0m     \u001b[0;32mif\u001b[0m \u001b[0mwrap\u001b[0m\u001b[0;34m:\u001b[0m\u001b[0;34m\u001b[0m\u001b[0m\n",
      "\u001b[0;31mMemoryError\u001b[0m: "
     ]
    }
   ],
   "source": [
    "fullData = trainData.copy()\n",
    "del fullData['member_id']\n",
    "del fullData['inq_last_12m']\n",
    "\n",
    "fullData['emp_length'].fillna(fullData['emp_length'].median(), inplace=True)\n",
    "fullData['annual_inc'].fillna(fullData['annual_inc'].median(), inplace=True)\n",
    "fullData['title'].fillna(fullData['title'].median(), inplace=True)\n",
    "fullData['pub_rec'].fillna(fullData['pub_rec'].median(), inplace=True)\n",
    "fullData['revol_util'].fillna(fullData['revol_util'].median(), inplace=True)\n",
    "fullData['total_acc'].fillna(fullData['total_acc'].median(), inplace=True)\n",
    "fullData['collections_12_mths_ex_med'].fillna(fullData['collections_12_mths_ex_med'].median(), inplace=True)"
   ]
  },
  {
   "cell_type": "code",
   "execution_count": null,
   "metadata": {
    "collapsed": true
   },
   "outputs": [],
   "source": [
    "cutlTrain = fullData.loc[fullData['total_cu_tl'] >= 0]\n",
    "cutlTest = fullData.copy()\n",
    "delCutlLocal = np.array(np.where(np.array(fullData['total_cu_tl'] >= 0)))\n",
    "for i in delCutlLocal.tolist():\n",
    "    cutlTest.drop(i, axis=0, inplace=True)\n",
    "cutlTest = cutlTest.reset_index()\n",
    "cutlTrain = cutlTrain.reset_index()\n",
    "\n",
    "cutlTrainLabel = cutlTrain['total_cu_tl']\n",
    "del cutlTrain['total_cu_tl']\n",
    "\n",
    "cutlTestLabel = cutlTest['total_cu_tl']\n",
    "del cutlTest['total_cu_tl']\n",
    "\n",
    "from sklearn.preprocessing import StandardScaler\n",
    "ss = StandardScaler()\n",
    "ss.fit(cutlTrain)\n",
    "cutlTrain_d = ss.transform(cutlTrain)\n",
    "cutlTest_d = ss.transform(cutlTest)\n",
    "\n",
    "from sklearn import linear_model\n",
    "lin = linear_model.BayesianRidge()\n",
    "\n",
    "lin.fit(cutlTrain_d, cutlTrainLabel)\n",
    "\n",
    "trainData.loc[(trainData['total_cu_tl'].isnull()), 'total_cu_tl'] = lin.predict(cutlTest_d)"
   ]
  },
  {
   "cell_type": "markdown",
   "metadata": {},
   "source": [
    "# 预测 inq_last_12m"
   ]
  },
  {
   "cell_type": "code",
   "execution_count": null,
   "metadata": {
    "collapsed": true
   },
   "outputs": [],
   "source": [
    "fullData = trainData.copy()\n",
    "del fullData['member_id']\n",
    "\n",
    "fullData['emp_length'].fillna(fullData['emp_length'].median(), inplace=True)\n",
    "fullData['annual_inc'].fillna(fullData['annual_inc'].median(), inplace=True)\n",
    "fullData['title'].fillna(fullData['title'].median(), inplace=True)\n",
    "fullData['pub_rec'].fillna(fullData['pub_rec'].median(), inplace=True)\n",
    "fullData['revol_util'].fillna(fullData['revol_util'].median(), inplace=True)\n",
    "fullData['total_acc'].fillna(fullData['total_acc'].median(), inplace=True)\n",
    "fullData['collections_12_mths_ex_med'].fillna(fullData['collections_12_mths_ex_med'].median(), inplace=True)"
   ]
  },
  {
   "cell_type": "code",
   "execution_count": null,
   "metadata": {
    "collapsed": true
   },
   "outputs": [],
   "source": [
    "iq12mTrain = fullData.loc[fullData['inq_last_12m'] >= 0]\n",
    "iq12mTest = fullData.copy()\n",
    "delIq12mLocal = np.array(np.where(np.array(fullData['inq_last_12m'] >= 0)))\n",
    "for i in delIq12mLocal.tolist():\n",
    "    iq12mTest.drop(i, axis=0, inplace=True)\n",
    "iq12mTest = iq12mTest.reset_index()\n",
    "iq12mTrain = iq12mTrain.reset_index()\n",
    "\n",
    "iq12mTrainLabel = iq12mTrain['inq_last_12m']\n",
    "del iq12mTrain['inq_last_12m']\n",
    "\n",
    "iq12mTestLabel = iq12mTest['inq_last_12m']\n",
    "del iq12mTest['inq_last_12m']\n",
    "\n",
    "from sklearn.preprocessing import StandardScaler\n",
    "ss = StandardScaler()\n",
    "ss.fit(iq12mTrain)\n",
    "iq12mTrain_d = ss.transform(iq12mTrain)\n",
    "iq12mTest_d = ss.transform(iq12mTest)\n",
    "\n",
    "from sklearn import linear_model\n",
    "lin = linear_model.BayesianRidge()\n",
    "\n",
    "lin.fit(iq12mTrain_d, iq12mTrainLabel)\n",
    "\n",
    "trainData.loc[(trainData['inq_last_12m'].isnull()), 'inq_last_12m'] = lin.predict(iq12mTest_d)"
   ]
  },
  {
   "cell_type": "code",
   "execution_count": null,
   "metadata": {
    "collapsed": true
   },
   "outputs": [],
   "source": [
    "overPath = os.path.join(homePath, 'train_ALL.csv')\n",
    "trainData.to_csv(overPath, index=False)"
   ]
  }
 ],
 "metadata": {
  "kernelspec": {
   "display_name": "Python 3",
   "language": "python",
   "name": "python3"
  },
  "language_info": {
   "codemirror_mode": {
    "name": "ipython",
    "version": 3
   },
   "file_extension": ".py",
   "mimetype": "text/x-python",
   "name": "python",
   "nbconvert_exporter": "python",
   "pygments_lexer": "ipython3",
   "version": "3.5.4"
  }
 },
 "nbformat": 4,
 "nbformat_minor": 2
}
